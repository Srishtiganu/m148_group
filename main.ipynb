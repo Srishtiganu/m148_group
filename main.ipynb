{
 "cells": [
  {
   "cell_type": "markdown",
   "metadata": {},
   "source": [
    "# Goal\n",
    "The goal is to predict **energy** based on acousticness, loudness, instrumentalness and other factors. \n",
    "\n",
    "Our team has chosen the Hugging Face Spotify Tracks dataset.\n",
    "\n",
    "The key features we have decided to study are **loudness, acousticness, instrumentalness**, energy (for training) because these would be most useful for energy value prediction.\n",
    "\n"
   ]
  },
  {
   "cell_type": "code",
   "execution_count": 3,
   "metadata": {},
   "outputs": [],
   "source": [
    "import pandas as pd\n",
    "\n",
    "df = pd.read_csv(\"hf://datasets/maharshipandya/spotify-tracks-dataset/dataset.csv\")"
   ]
  },
  {
   "cell_type": "code",
   "execution_count": 4,
   "metadata": {},
   "outputs": [],
   "source": [
    "from datascience import *\n",
    "import numpy as np\n",
    "import pandas as pd\n",
    "import plotly.express as px\n",
    "import matplotlib.pyplot as plt"
   ]
  },
  {
   "cell_type": "markdown",
   "metadata": {},
   "source": [
    "### Data Exploration"
   ]
  },
  {
   "cell_type": "code",
   "execution_count": 5,
   "metadata": {},
   "outputs": [
    {
     "data": {
      "text/plain": [
       "Index(['Unnamed: 0', 'track_id', 'artists', 'album_name', 'track_name',\n",
       "       'popularity', 'duration_ms', 'explicit', 'danceability', 'energy',\n",
       "       'key', 'loudness', 'mode', 'speechiness', 'acousticness',\n",
       "       'instrumentalness', 'liveness', 'valence', 'tempo', 'time_signature',\n",
       "       'track_genre'],\n",
       "      dtype='object')"
      ]
     },
     "execution_count": 5,
     "metadata": {},
     "output_type": "execute_result"
    }
   ],
   "source": [
    "df.columns"
   ]
  },
  {
   "cell_type": "code",
   "execution_count": 6,
   "metadata": {},
   "outputs": [
    {
     "data": {
      "text/html": [
       "<div>\n",
       "<style scoped>\n",
       "    .dataframe tbody tr th:only-of-type {\n",
       "        vertical-align: middle;\n",
       "    }\n",
       "\n",
       "    .dataframe tbody tr th {\n",
       "        vertical-align: top;\n",
       "    }\n",
       "\n",
       "    .dataframe thead th {\n",
       "        text-align: right;\n",
       "    }\n",
       "</style>\n",
       "<table border=\"1\" class=\"dataframe\">\n",
       "  <thead>\n",
       "    <tr style=\"text-align: right;\">\n",
       "      <th></th>\n",
       "      <th>Unnamed: 0</th>\n",
       "      <th>track_id</th>\n",
       "      <th>artists</th>\n",
       "      <th>album_name</th>\n",
       "      <th>track_name</th>\n",
       "      <th>popularity</th>\n",
       "      <th>duration_ms</th>\n",
       "      <th>explicit</th>\n",
       "      <th>danceability</th>\n",
       "      <th>energy</th>\n",
       "      <th>...</th>\n",
       "      <th>loudness</th>\n",
       "      <th>mode</th>\n",
       "      <th>speechiness</th>\n",
       "      <th>acousticness</th>\n",
       "      <th>instrumentalness</th>\n",
       "      <th>liveness</th>\n",
       "      <th>valence</th>\n",
       "      <th>tempo</th>\n",
       "      <th>time_signature</th>\n",
       "      <th>track_genre</th>\n",
       "    </tr>\n",
       "  </thead>\n",
       "  <tbody>\n",
       "    <tr>\n",
       "      <th>74966</th>\n",
       "      <td>74966</td>\n",
       "      <td>6EEDuy7cieppsAqgEvCkkL</td>\n",
       "      <td>Dominguinhos</td>\n",
       "      <td>Ao Vivo</td>\n",
       "      <td>Eu Só Quero um Xodó (Ao Vivo)</td>\n",
       "      <td>41</td>\n",
       "      <td>178200</td>\n",
       "      <td>False</td>\n",
       "      <td>0.460</td>\n",
       "      <td>0.613</td>\n",
       "      <td>...</td>\n",
       "      <td>-11.462</td>\n",
       "      <td>1</td>\n",
       "      <td>0.0553</td>\n",
       "      <td>0.715000</td>\n",
       "      <td>0.000036</td>\n",
       "      <td>0.5520</td>\n",
       "      <td>0.751</td>\n",
       "      <td>177.381</td>\n",
       "      <td>4</td>\n",
       "      <td>mpb</td>\n",
       "    </tr>\n",
       "    <tr>\n",
       "      <th>49195</th>\n",
       "      <td>49195</td>\n",
       "      <td>32bwybOSnnYG2YTZot6W6x</td>\n",
       "      <td>Zanger Kafke</td>\n",
       "      <td>Onze Dag (Hosclt Remix)</td>\n",
       "      <td>Onze Dag - Hosclt Remix</td>\n",
       "      <td>29</td>\n",
       "      <td>124800</td>\n",
       "      <td>False</td>\n",
       "      <td>0.595</td>\n",
       "      <td>0.918</td>\n",
       "      <td>...</td>\n",
       "      <td>-5.699</td>\n",
       "      <td>1</td>\n",
       "      <td>0.1700</td>\n",
       "      <td>0.034800</td>\n",
       "      <td>0.000001</td>\n",
       "      <td>0.1760</td>\n",
       "      <td>0.800</td>\n",
       "      <td>149.934</td>\n",
       "      <td>4</td>\n",
       "      <td>hardstyle</td>\n",
       "    </tr>\n",
       "    <tr>\n",
       "      <th>19853</th>\n",
       "      <td>19853</td>\n",
       "      <td>4686eQ81DEswHa90bcdlC9</td>\n",
       "      <td>Bailey Zimmerman</td>\n",
       "      <td>Rock and A Hard Place</td>\n",
       "      <td>Rock and A Hard Place</td>\n",
       "      <td>84</td>\n",
       "      <td>207540</td>\n",
       "      <td>False</td>\n",
       "      <td>0.582</td>\n",
       "      <td>0.568</td>\n",
       "      <td>...</td>\n",
       "      <td>-7.300</td>\n",
       "      <td>1</td>\n",
       "      <td>0.0275</td>\n",
       "      <td>0.577000</td>\n",
       "      <td>0.000000</td>\n",
       "      <td>0.1050</td>\n",
       "      <td>0.394</td>\n",
       "      <td>121.991</td>\n",
       "      <td>3</td>\n",
       "      <td>country</td>\n",
       "    </tr>\n",
       "    <tr>\n",
       "      <th>95059</th>\n",
       "      <td>95059</td>\n",
       "      <td>1cljqIpqVclOzZBG4jWiTm</td>\n",
       "      <td>Tony Vega</td>\n",
       "      <td>Ritmo Bonito</td>\n",
       "      <td>Ella Es</td>\n",
       "      <td>0</td>\n",
       "      <td>302986</td>\n",
       "      <td>False</td>\n",
       "      <td>0.483</td>\n",
       "      <td>0.843</td>\n",
       "      <td>...</td>\n",
       "      <td>-9.476</td>\n",
       "      <td>0</td>\n",
       "      <td>0.0338</td>\n",
       "      <td>0.279000</td>\n",
       "      <td>0.000000</td>\n",
       "      <td>0.0671</td>\n",
       "      <td>0.961</td>\n",
       "      <td>99.359</td>\n",
       "      <td>4</td>\n",
       "      <td>salsa</td>\n",
       "    </tr>\n",
       "    <tr>\n",
       "      <th>60885</th>\n",
       "      <td>60885</td>\n",
       "      <td>7JRiMZd8uYb5tTL9hMXLk6</td>\n",
       "      <td>Rygin King</td>\n",
       "      <td>Scheme House</td>\n",
       "      <td>Scheme House</td>\n",
       "      <td>18</td>\n",
       "      <td>156084</td>\n",
       "      <td>True</td>\n",
       "      <td>0.720</td>\n",
       "      <td>0.678</td>\n",
       "      <td>...</td>\n",
       "      <td>-5.487</td>\n",
       "      <td>1</td>\n",
       "      <td>0.1850</td>\n",
       "      <td>0.695000</td>\n",
       "      <td>0.000000</td>\n",
       "      <td>0.1110</td>\n",
       "      <td>0.489</td>\n",
       "      <td>125.250</td>\n",
       "      <td>5</td>\n",
       "      <td>j-dance</td>\n",
       "    </tr>\n",
       "    <tr>\n",
       "      <th>71373</th>\n",
       "      <td>71373</td>\n",
       "      <td>0S3gpZzlT9Hb7CCSV2owX7</td>\n",
       "      <td>Ozzy Osbourne</td>\n",
       "      <td>No More Tears (Expanded Edition)</td>\n",
       "      <td>Mama, I'm Coming Home</td>\n",
       "      <td>69</td>\n",
       "      <td>251866</td>\n",
       "      <td>False</td>\n",
       "      <td>0.282</td>\n",
       "      <td>0.656</td>\n",
       "      <td>...</td>\n",
       "      <td>-6.557</td>\n",
       "      <td>1</td>\n",
       "      <td>0.0302</td>\n",
       "      <td>0.010500</td>\n",
       "      <td>0.000000</td>\n",
       "      <td>0.0892</td>\n",
       "      <td>0.242</td>\n",
       "      <td>139.352</td>\n",
       "      <td>4</td>\n",
       "      <td>metal</td>\n",
       "    </tr>\n",
       "    <tr>\n",
       "      <th>33038</th>\n",
       "      <td>33038</td>\n",
       "      <td>0Re4mDIlMH1IK5Tr9QArVl</td>\n",
       "      <td>My Chemical Romance</td>\n",
       "      <td>Tek It - New Noise</td>\n",
       "      <td>The Foundations of Decay</td>\n",
       "      <td>0</td>\n",
       "      <td>360760</td>\n",
       "      <td>False</td>\n",
       "      <td>0.363</td>\n",
       "      <td>0.670</td>\n",
       "      <td>...</td>\n",
       "      <td>-6.652</td>\n",
       "      <td>0</td>\n",
       "      <td>0.0552</td>\n",
       "      <td>0.000582</td>\n",
       "      <td>0.548000</td>\n",
       "      <td>0.3170</td>\n",
       "      <td>0.198</td>\n",
       "      <td>150.150</td>\n",
       "      <td>4</td>\n",
       "      <td>emo</td>\n",
       "    </tr>\n",
       "    <tr>\n",
       "      <th>8898</th>\n",
       "      <td>8898</td>\n",
       "      <td>4Z0MZsT09o9t6RdYa0pTNx</td>\n",
       "      <td>Memphis La Blusera</td>\n",
       "      <td>Cosa de Hombres, Vol. 1</td>\n",
       "      <td>Se Necesita</td>\n",
       "      <td>34</td>\n",
       "      <td>422613</td>\n",
       "      <td>False</td>\n",
       "      <td>0.578</td>\n",
       "      <td>0.672</td>\n",
       "      <td>...</td>\n",
       "      <td>-6.975</td>\n",
       "      <td>1</td>\n",
       "      <td>0.0421</td>\n",
       "      <td>0.158000</td>\n",
       "      <td>0.000000</td>\n",
       "      <td>0.3620</td>\n",
       "      <td>0.580</td>\n",
       "      <td>128.997</td>\n",
       "      <td>4</td>\n",
       "      <td>blues</td>\n",
       "    </tr>\n",
       "    <tr>\n",
       "      <th>52029</th>\n",
       "      <td>52029</td>\n",
       "      <td>05qxVI0FGM6OiestYxA8Wn</td>\n",
       "      <td>George Jones</td>\n",
       "      <td>Mr. Country and Western</td>\n",
       "      <td>White Lightnin'</td>\n",
       "      <td>26</td>\n",
       "      <td>166368</td>\n",
       "      <td>False</td>\n",
       "      <td>0.603</td>\n",
       "      <td>0.717</td>\n",
       "      <td>...</td>\n",
       "      <td>-12.338</td>\n",
       "      <td>1</td>\n",
       "      <td>0.0622</td>\n",
       "      <td>0.685000</td>\n",
       "      <td>0.000016</td>\n",
       "      <td>0.1050</td>\n",
       "      <td>0.943</td>\n",
       "      <td>149.092</td>\n",
       "      <td>4</td>\n",
       "      <td>honky-tonk</td>\n",
       "    </tr>\n",
       "    <tr>\n",
       "      <th>10543</th>\n",
       "      <td>10543</td>\n",
       "      <td>5hvH9Zo5yjB6zvhd4qOTpM</td>\n",
       "      <td>Freestylers</td>\n",
       "      <td>Adventures In Freestyle</td>\n",
       "      <td>Could I Be Dreaming?</td>\n",
       "      <td>13</td>\n",
       "      <td>264640</td>\n",
       "      <td>False</td>\n",
       "      <td>0.580</td>\n",
       "      <td>0.905</td>\n",
       "      <td>...</td>\n",
       "      <td>-4.330</td>\n",
       "      <td>1</td>\n",
       "      <td>0.0311</td>\n",
       "      <td>0.003140</td>\n",
       "      <td>0.000000</td>\n",
       "      <td>0.5350</td>\n",
       "      <td>0.504</td>\n",
       "      <td>102.013</td>\n",
       "      <td>4</td>\n",
       "      <td>breakbeat</td>\n",
       "    </tr>\n",
       "  </tbody>\n",
       "</table>\n",
       "<p>10 rows × 21 columns</p>\n",
       "</div>"
      ],
      "text/plain": [
       "       Unnamed: 0                track_id              artists  \\\n",
       "74966       74966  6EEDuy7cieppsAqgEvCkkL         Dominguinhos   \n",
       "49195       49195  32bwybOSnnYG2YTZot6W6x         Zanger Kafke   \n",
       "19853       19853  4686eQ81DEswHa90bcdlC9     Bailey Zimmerman   \n",
       "95059       95059  1cljqIpqVclOzZBG4jWiTm            Tony Vega   \n",
       "60885       60885  7JRiMZd8uYb5tTL9hMXLk6           Rygin King   \n",
       "71373       71373  0S3gpZzlT9Hb7CCSV2owX7        Ozzy Osbourne   \n",
       "33038       33038  0Re4mDIlMH1IK5Tr9QArVl  My Chemical Romance   \n",
       "8898         8898  4Z0MZsT09o9t6RdYa0pTNx   Memphis La Blusera   \n",
       "52029       52029  05qxVI0FGM6OiestYxA8Wn         George Jones   \n",
       "10543       10543  5hvH9Zo5yjB6zvhd4qOTpM          Freestylers   \n",
       "\n",
       "                             album_name                     track_name  \\\n",
       "74966                           Ao Vivo  Eu Só Quero um Xodó (Ao Vivo)   \n",
       "49195           Onze Dag (Hosclt Remix)        Onze Dag - Hosclt Remix   \n",
       "19853             Rock and A Hard Place          Rock and A Hard Place   \n",
       "95059                      Ritmo Bonito                        Ella Es   \n",
       "60885                      Scheme House                   Scheme House   \n",
       "71373  No More Tears (Expanded Edition)          Mama, I'm Coming Home   \n",
       "33038                Tek It - New Noise       The Foundations of Decay   \n",
       "8898            Cosa de Hombres, Vol. 1                    Se Necesita   \n",
       "52029           Mr. Country and Western                White Lightnin'   \n",
       "10543           Adventures In Freestyle           Could I Be Dreaming?   \n",
       "\n",
       "       popularity  duration_ms  explicit  danceability  energy  ...  loudness  \\\n",
       "74966          41       178200     False         0.460   0.613  ...   -11.462   \n",
       "49195          29       124800     False         0.595   0.918  ...    -5.699   \n",
       "19853          84       207540     False         0.582   0.568  ...    -7.300   \n",
       "95059           0       302986     False         0.483   0.843  ...    -9.476   \n",
       "60885          18       156084      True         0.720   0.678  ...    -5.487   \n",
       "71373          69       251866     False         0.282   0.656  ...    -6.557   \n",
       "33038           0       360760     False         0.363   0.670  ...    -6.652   \n",
       "8898           34       422613     False         0.578   0.672  ...    -6.975   \n",
       "52029          26       166368     False         0.603   0.717  ...   -12.338   \n",
       "10543          13       264640     False         0.580   0.905  ...    -4.330   \n",
       "\n",
       "       mode  speechiness  acousticness  instrumentalness  liveness  valence  \\\n",
       "74966     1       0.0553      0.715000          0.000036    0.5520    0.751   \n",
       "49195     1       0.1700      0.034800          0.000001    0.1760    0.800   \n",
       "19853     1       0.0275      0.577000          0.000000    0.1050    0.394   \n",
       "95059     0       0.0338      0.279000          0.000000    0.0671    0.961   \n",
       "60885     1       0.1850      0.695000          0.000000    0.1110    0.489   \n",
       "71373     1       0.0302      0.010500          0.000000    0.0892    0.242   \n",
       "33038     0       0.0552      0.000582          0.548000    0.3170    0.198   \n",
       "8898      1       0.0421      0.158000          0.000000    0.3620    0.580   \n",
       "52029     1       0.0622      0.685000          0.000016    0.1050    0.943   \n",
       "10543     1       0.0311      0.003140          0.000000    0.5350    0.504   \n",
       "\n",
       "         tempo  time_signature  track_genre  \n",
       "74966  177.381               4          mpb  \n",
       "49195  149.934               4    hardstyle  \n",
       "19853  121.991               3      country  \n",
       "95059   99.359               4        salsa  \n",
       "60885  125.250               5      j-dance  \n",
       "71373  139.352               4        metal  \n",
       "33038  150.150               4          emo  \n",
       "8898   128.997               4        blues  \n",
       "52029  149.092               4   honky-tonk  \n",
       "10543  102.013               4    breakbeat  \n",
       "\n",
       "[10 rows x 21 columns]"
      ]
     },
     "execution_count": 6,
     "metadata": {},
     "output_type": "execute_result"
    }
   ],
   "source": [
    "df.sample(10)"
   ]
  },
  {
   "cell_type": "markdown",
   "metadata": {},
   "source": [
    "The one missing row might be because the name and artists are in Korean since it is a k-pop genre song."
   ]
  },
  {
   "cell_type": "code",
   "execution_count": 7,
   "metadata": {},
   "outputs": [
    {
     "name": "stdout",
     "output_type": "stream",
     "text": [
      "Number of missing data rows: 1\n",
      "Missing data rows:\n",
      "       Unnamed: 0                track_id artists album_name track_name  \\\n",
      "65900       65900  1kR4gIb7nGxHPI3D2ifs59     NaN        NaN        NaN   \n",
      "\n",
      "       popularity  duration_ms  explicit  danceability  energy  ...  loudness  \\\n",
      "65900           0            0     False         0.501   0.583  ...     -9.46   \n",
      "\n",
      "       mode  speechiness  acousticness  instrumentalness  liveness  valence  \\\n",
      "65900     0       0.0605          0.69           0.00396    0.0747    0.734   \n",
      "\n",
      "         tempo  time_signature  track_genre  \n",
      "65900  138.391               4        k-pop  \n",
      "\n",
      "[1 rows x 21 columns]\n"
     ]
    }
   ],
   "source": [
    "missing_prop = df.isna().sum() / len(df.index)\n",
    "missing_prop.sort_values()\n",
    "missing_rows = df[df.isna().any(axis=1)]\n",
    "\n",
    "print(\"Number of missing data rows:\", len(missing_rows))\n",
    "print(\"Missing data rows:\")\n",
    "print(missing_rows)"
   ]
  },
  {
   "cell_type": "code",
   "execution_count": 8,
   "metadata": {},
   "outputs": [
    {
     "name": "stdout",
     "output_type": "stream",
     "text": [
      "acoustic: 1000\n",
      "afrobeat: 1000\n",
      "alt-rock: 1000\n",
      "alternative: 1000\n",
      "ambient: 1000\n",
      "anime: 1000\n",
      "black-metal: 1000\n",
      "bluegrass: 1000\n",
      "blues: 1000\n",
      "brazil: 1000\n",
      "breakbeat: 1000\n",
      "british: 1000\n",
      "cantopop: 1000\n",
      "chicago-house: 1000\n",
      "children: 1000\n",
      "chill: 1000\n",
      "classical: 1000\n",
      "club: 1000\n",
      "comedy: 1000\n",
      "country: 1000\n",
      "dance: 1000\n",
      "dancehall: 1000\n",
      "death-metal: 1000\n",
      "deep-house: 1000\n",
      "detroit-techno: 1000\n",
      "disco: 1000\n",
      "disney: 1000\n",
      "drum-and-bass: 1000\n",
      "dub: 1000\n",
      "dubstep: 1000\n",
      "edm: 1000\n",
      "electro: 1000\n",
      "electronic: 1000\n",
      "emo: 1000\n",
      "folk: 1000\n",
      "forro: 1000\n",
      "french: 1000\n",
      "funk: 1000\n",
      "garage: 1000\n",
      "german: 1000\n",
      "gospel: 1000\n",
      "goth: 1000\n",
      "grindcore: 1000\n",
      "groove: 1000\n",
      "grunge: 1000\n",
      "guitar: 1000\n",
      "happy: 1000\n",
      "hard-rock: 1000\n",
      "hardcore: 1000\n",
      "hardstyle: 1000\n",
      "heavy-metal: 1000\n",
      "hip-hop: 1000\n",
      "honky-tonk: 1000\n",
      "house: 1000\n",
      "idm: 1000\n",
      "indian: 1000\n",
      "indie-pop: 1000\n",
      "indie: 1000\n",
      "industrial: 1000\n",
      "iranian: 1000\n",
      "j-dance: 1000\n",
      "j-idol: 1000\n",
      "j-pop: 1000\n",
      "j-rock: 1000\n",
      "jazz: 1000\n",
      "k-pop: 1000\n",
      "kids: 1000\n",
      "latin: 1000\n",
      "latino: 1000\n",
      "malay: 1000\n",
      "mandopop: 1000\n",
      "metal: 1000\n",
      "metalcore: 1000\n",
      "minimal-techno: 1000\n",
      "mpb: 1000\n",
      "new-age: 1000\n",
      "opera: 1000\n",
      "pagode: 1000\n",
      "party: 1000\n",
      "piano: 1000\n",
      "pop-film: 1000\n",
      "pop: 1000\n",
      "power-pop: 1000\n",
      "progressive-house: 1000\n",
      "psych-rock: 1000\n",
      "punk-rock: 1000\n",
      "punk: 1000\n",
      "r-n-b: 1000\n",
      "reggae: 1000\n",
      "reggaeton: 1000\n",
      "rock-n-roll: 1000\n",
      "rock: 1000\n",
      "rockabilly: 1000\n",
      "romance: 1000\n",
      "sad: 1000\n",
      "salsa: 1000\n",
      "samba: 1000\n",
      "sertanejo: 1000\n",
      "show-tunes: 1000\n",
      "singer-songwriter: 1000\n",
      "ska: 1000\n",
      "sleep: 1000\n",
      "songwriter: 1000\n",
      "soul: 1000\n",
      "spanish: 1000\n",
      "study: 1000\n",
      "swedish: 1000\n",
      "synth-pop: 1000\n",
      "tango: 1000\n",
      "techno: 1000\n",
      "trance: 1000\n",
      "trip-hop: 1000\n",
      "turkish: 1000\n",
      "world-music: 1000\n"
     ]
    }
   ],
   "source": [
    "# list of number of tracks (rows) in each unique track_genre\n",
    "for genre in df['track_genre'].unique():\n",
    "  print(f\"{genre}: {len(df[df['track_genre'] == genre])}\")"
   ]
  },
  {
   "cell_type": "markdown",
   "metadata": {},
   "source": [
    "### Data Cleaning\n",
    "There is only 1 row missing some values, so we are removing this row."
   ]
  },
  {
   "cell_type": "code",
   "execution_count": 9,
   "metadata": {},
   "outputs": [
    {
     "name": "stdout",
     "output_type": "stream",
     "text": [
      "Number of missing data rows: 0\n",
      "Missing data rows:\n",
      "Empty DataFrame\n",
      "Columns: [Unnamed: 0, track_id, artists, album_name, track_name, popularity, duration_ms, explicit, danceability, energy, key, loudness, mode, speechiness, acousticness, instrumentalness, liveness, valence, tempo, time_signature, track_genre]\n",
      "Index: []\n",
      "\n",
      "[0 rows x 21 columns]\n"
     ]
    }
   ],
   "source": [
    "df = df.dropna()\n",
    "missing_prop = df.isna().sum() / len(df.index)\n",
    "missing_prop.sort_values()\n",
    "missing_rows = df[df.isna().any(axis=1)]\n",
    "\n",
    "print(\"Number of missing data rows:\", len(missing_rows))\n",
    "print(\"Missing data rows:\")\n",
    "print(missing_rows)"
   ]
  },
  {
   "cell_type": "markdown",
   "metadata": {},
   "source": [
    "### Exploratory Data Analysis"
   ]
  },
  {
   "cell_type": "code",
   "execution_count": 10,
   "metadata": {},
   "outputs": [
    {
     "name": "stdout",
     "output_type": "stream",
     "text": [
      "                 Genre  Average Energy\n",
      "16           classical        0.189827\n",
      "75             new-age        0.214501\n",
      "4              ambient        0.237162\n",
      "93             romance        0.294304\n",
      "26              disney        0.302519\n",
      "76               opera        0.317054\n",
      "79               piano        0.320103\n",
      "45              guitar        0.324999\n",
      "101              sleep        0.342072\n",
      "64                jazz        0.352954\n",
      "52          honky-tonk        0.366957\n",
      "108              tango        0.372828\n",
      "98          show-tunes        0.398742\n",
      "105              study        0.410658\n",
      "15               chill        0.426723\n",
      "99   singer-songwriter        0.434188\n",
      "102         songwriter        0.434188\n",
      "0             acoustic        0.435368\n",
      "12            cantopop        0.461696\n",
      "94                 sad        0.462470\n",
      "14            children        0.494645\n",
      "70            mandopop        0.498434\n",
      "11             british        0.507127\n",
      "91         rock-n-roll        0.526615\n",
      "7            bluegrass        0.530280\n",
      "39              german        0.531718\n",
      "113        world-music        0.532987\n",
      "103               soul        0.533873\n",
      "34                folk        0.545807\n",
      "59             iranian        0.545846\n",
      "54                 idm        0.555399\n",
      "56               indie        0.556192\n",
      "57           indie-pop        0.561140\n",
      "84          psych-rock        0.561503\n",
      "55              indian        0.567121\n",
      "40              gospel        0.576256\n",
      "69               malay        0.578397\n",
      "74                 mpb        0.579787\n",
      "8                blues        0.581878\n",
      "36              french        0.594990\n",
      "19             country        0.596805\n",
      "81            pop-film        0.604562\n",
      "80                 pop        0.606437\n",
      "112            turkish        0.609804\n",
      "66                kids        0.613129\n",
      "9               brazil        0.620721\n",
      "106            swedish        0.622003\n",
      "111           trip-hop        0.622363\n",
      "37                funk        0.632999\n",
      "87               r-n-b        0.638130\n",
      "92          rockabilly        0.659372\n",
      "31             electro        0.665000\n",
      "33                 emo        0.669967\n",
      "96               samba        0.672644\n",
      "5                anime        0.674108\n",
      "65               k-pop        0.675747\n",
      "90                rock        0.679071\n",
      "62               j-pop        0.679604\n",
      "73      minimal-techno        0.680272\n",
      "51             hip-hop        0.682530\n",
      "21           dancehall        0.685262\n",
      "32          electronic        0.694752\n",
      "18              comedy        0.699934\n",
      "1             afrobeat        0.702812\n",
      "60             j-dance        0.703755\n",
      "104            spanish        0.707777\n",
      "20               dance        0.708583\n",
      "97           sertanejo        0.710391\n",
      "24      detroit-techno        0.710512\n",
      "77              pagode        0.712123\n",
      "107          synth-pop        0.713135\n",
      "28                 dub        0.714817\n",
      "3          alternative        0.720030\n",
      "17                club        0.721734\n",
      "95               salsa        0.724518\n",
      "88              reggae        0.725791\n",
      "67               latin        0.727080\n",
      "68              latino        0.731797\n",
      "13       chicago-house        0.733215\n",
      "25               disco        0.737565\n",
      "89           reggaeton        0.738728\n",
      "41                goth        0.740970\n",
      "23          deep-house        0.741855\n",
      "38              garage        0.744350\n",
      "109             techno        0.746413\n",
      "2             alt-rock        0.754173\n",
      "53               house        0.755083\n",
      "30                 edm        0.756196\n",
      "29             dubstep        0.758969\n",
      "63              j-rock        0.760684\n",
      "43              groove        0.763622\n",
      "35               forro        0.789526\n",
      "100                ska        0.793134\n",
      "47           hard-rock        0.795039\n",
      "82           power-pop        0.801688\n",
      "44              grunge        0.803290\n",
      "85                punk        0.809673\n",
      "86           punk-rock        0.809980\n",
      "83   progressive-house        0.813359\n",
      "71               metal        0.840273\n",
      "48            hardcore        0.842453\n",
      "110             trance        0.845272\n",
      "10           breakbeat        0.853275\n",
      "58          industrial        0.861745\n",
      "61              j-idol        0.868677\n",
      "78               party        0.871237\n",
      "50         heavy-metal        0.874003\n",
      "6          black-metal        0.874897\n",
      "27       drum-and-bass        0.876635\n",
      "49           hardstyle        0.901246\n",
      "46               happy        0.910971\n",
      "72           metalcore        0.914485\n",
      "42           grindcore        0.924201\n",
      "22         death-metal        0.931470\n"
     ]
    }
   ],
   "source": [
    "avg_energy_per_genre = df.groupby('track_genre')['energy'].mean().reset_index()\n",
    "avg_energy_per_genre.columns = ['Genre', 'Average Energy']\n",
    "avg_energy_per_genre_sorted = avg_energy_per_genre.sort_values(by='Average Energy', ascending=True)\n",
    "pd.set_option('display.max_rows', None)\n",
    "print(avg_energy_per_genre_sorted)"
   ]
  },
  {
   "cell_type": "markdown",
   "metadata": {},
   "source": [
    "### Correlation Matrix"
   ]
  },
  {
   "cell_type": "code",
   "execution_count": 11,
   "metadata": {},
   "outputs": [],
   "source": [
    "import numpy as np\n",
    "import pandas as pd\n",
    "import matplotlib.pyplot as plt\n",
    "import seaborn as sns\n",
    "from sklearn.model_selection import train_test_split\n",
    "from sklearn.linear_model import LogisticRegression\n",
    "from sklearn.metrics import accuracy_score, confusion_matrix, classification_report\n",
    "from sklearn.metrics import roc_curve, roc_auc_score\n",
    "from sklearn.metrics import precision_recall_curve"
   ]
  },
  {
   "cell_type": "code",
   "execution_count": 12,
   "metadata": {},
   "outputs": [
    {
     "name": "stdout",
     "output_type": "stream",
     "text": [
      "['track_id', 'artists', 'album_name', 'track_name', 'explicit', 'track_genre']\n",
      "mode                1.000000\n",
      "acousticness        0.095568\n",
      "valence             0.021964\n",
      "liveness            0.014004\n",
      "Unnamed: 0          0.005110\n",
      "tempo               0.000572\n",
      "popularity         -0.013948\n",
      "time_signature     -0.024090\n",
      "duration_ms        -0.035581\n",
      "loudness           -0.041768\n",
      "speechiness        -0.046535\n",
      "instrumentalness   -0.049961\n",
      "danceability       -0.069224\n",
      "energy             -0.078365\n",
      "key                -0.135911\n",
      "Name: mode, dtype: float64\n"
     ]
    },
    {
     "data": {
      "application/vnd.plotly.v1+json": {
       "config": {
        "plotlyServerURL": "https://plot.ly"
       },
       "data": [
        {
         "coloraxis": "coloraxis",
         "hovertemplate": "x: %{x}<br>y: %{y}<br>color: %{z}<extra></extra>",
         "name": "0",
         "texttemplate": "%{z}",
         "type": "heatmap",
         "x": [
          "Unnamed: 0",
          "popularity",
          "duration_ms",
          "danceability",
          "energy",
          "key",
          "loudness",
          "mode",
          "speechiness",
          "acousticness",
          "instrumentalness",
          "liveness",
          "valence",
          "tempo",
          "time_signature"
         ],
         "xaxis": "x",
         "y": [
          "Unnamed: 0",
          "popularity",
          "duration_ms",
          "danceability",
          "energy",
          "key",
          "loudness",
          "mode",
          "speechiness",
          "acousticness",
          "instrumentalness",
          "liveness",
          "valence",
          "tempo",
          "time_signature"
         ],
         "yaxis": "y",
         "z": [
          [
           1,
           0.032146077845000995,
           -0.03273829759623055,
           0.0034446753678533315,
           -0.05599329516441507,
           -0.005520958920191837,
           -0.02730671127573881,
           0.0051099078205800435,
           -0.08495173946501722,
           0.07683731397518331,
           -0.07028479195922831,
           0.03364062847877422,
           0.05310856472383606,
           -0.02582494242644716,
           -0.021115293414441287
          ],
          [
           0.032146077845000995,
           1,
           -0.00712919982976786,
           0.035443545961346475,
           0.0010531126538152716,
           -0.0038469873002553363,
           0.05042041812426425,
           -0.013948367242906863,
           -0.044929983142269536,
           -0.025458057255118086,
           -0.09514665337271311,
           -0.005396753083609591,
           -0.04052176220204289,
           0.013211888443029934,
           0.031075967793415274
          ],
          [
           -0.03273829759623055,
           -0.00712919982976786,
           1,
           -0.07343480995635031,
           0.05851962404139745,
           0.00812315893233648,
           -0.003474686813204123,
           -0.03558140629199677,
           -0.0626053464550488,
           -0.10376973545036677,
           0.12436393777162782,
           0.010307959992045125,
           -0.15446366199071593,
           0.02435622061990152,
           0.01822911921317496
          ],
          [
           0.0034446753678533315,
           0.035443545961346475,
           -0.07343480995635031,
           1,
           0.13432482790211503,
           0.03647040820749166,
           0.25907616706078196,
           -0.06922424421606861,
           0.10862542327183976,
           -0.1715306446146733,
           -0.1856081974058384,
           -0.13161967261493335,
           0.4773469754331838,
           -0.05044816605877675,
           0.20721902810732595
          ],
          [
           -0.05599329516441507,
           0.0010531126538152716,
           0.05851962404139745,
           0.13432482790211503,
           1,
           0.0480066423341403,
           0.7616898441659528,
           -0.07836515946353902,
           0.1425084689978585,
           -0.7339082934928766,
           -0.18188044702933645,
           0.18479451208517086,
           0.2589372393342886,
           0.2478519907462884,
           0.18712661152663912
          ],
          [
           -0.005520958920191837,
           -0.0038469873002553363,
           0.00812315893233648,
           0.03647040820749166,
           0.0480066423341403,
           1,
           0.03859111148469575,
           -0.13591149835037655,
           0.020418643358739465,
           -0.04094204095670593,
           -0.006820866651211296,
           -0.001597001632485173,
           0.0340991609826893,
           0.010914386470065358,
           0.01506405502742526
          ],
          [
           -0.02730671127573881,
           0.05042041812426425,
           -0.003474686813204123,
           0.25907616706078196,
           0.7616898441659528,
           0.03859111148469575,
           1,
           -0.04176755071619945,
           0.06082587874383857,
           -0.5898037428970132,
           -0.43347845859392076,
           0.07689733278564466,
           0.27985128595222375,
           0.21244735832885536,
           0.19199242221500684
          ],
          [
           0.0051099078205800435,
           -0.013948367242906863,
           -0.03558140629199677,
           -0.06922424421606861,
           -0.07836515946353902,
           -0.13591149835037655,
           -0.04176755071619945,
           1,
           -0.046534743917601824,
           0.09556763064986246,
           -0.04996076118178215,
           0.01400384684900778,
           0.021964454390540764,
           0.0005718670406741842,
           -0.024089879252211007
          ],
          [
           -0.08495173946501722,
           -0.044929983142269536,
           -0.0626053464550488,
           0.10862542327183976,
           0.1425084689978585,
           0.020418643358739465,
           0.06082587874383857,
           -0.046534743917601824,
           1,
           -0.0021840881889326653,
           -0.08961686470719345,
           0.20521812166201528,
           0.03663676175302312,
           0.0172743352404111,
           -0.000010676654784900517
          ],
          [
           0.07683731397518331,
           -0.025458057255118086,
           -0.10376973545036677,
           -0.1715306446146733,
           -0.7339082934928766,
           -0.04094204095670593,
           -0.5898037428970132,
           0.09556763064986246,
           -0.0021840881889326653,
           1,
           0.10403267169571552,
           -0.020693307609652264,
           -0.10708117009580513,
           -0.2082309388837001,
           -0.1761415032197091
          ],
          [
           -0.07028479195922831,
           -0.09514665337271311,
           0.12436393777162782,
           -0.1856081974058384,
           -0.18188044702933645,
           -0.006820866651211296,
           -0.43347845859392076,
           -0.04996076118178215,
           -0.08961686470719345,
           0.10403267169571552,
           1,
           -0.07989599669207154,
           -0.3243097806369768,
           -0.050328184188697146,
           -0.0825795343381348
          ],
          [
           0.03364062847877422,
           -0.005396753083609591,
           0.010307959992045125,
           -0.13161967261493335,
           0.18479451208517086,
           -0.001597001632485173,
           0.07689733278564466,
           0.01400384684900778,
           0.20521812166201528,
           -0.020693307609652264,
           -0.07989599669207154,
           1,
           0.019092798040296344,
           0.0006032361179092793,
           -0.02364920069108755
          ],
          [
           0.05310856472383606,
           -0.04052176220204289,
           -0.15446366199071593,
           0.4773469754331838,
           0.2589372393342886,
           0.0340991609826893,
           0.27985128595222375,
           0.021964454390540764,
           0.03663676175302312,
           -0.10708117009580513,
           -0.3243097806369768,
           0.019092798040296344,
           1,
           0.0782687481958849,
           0.13368462513218732
          ],
          [
           -0.02582494242644716,
           0.013211888443029934,
           0.02435622061990152,
           -0.05044816605877675,
           0.2478519907462884,
           0.010914386470065358,
           0.21244735832885536,
           0.0005718670406741842,
           0.0172743352404111,
           -0.2082309388837001,
           -0.050328184188697146,
           0.0006032361179092793,
           0.0782687481958849,
           1,
           0.06664013407752918
          ],
          [
           -0.021115293414441287,
           0.031075967793415274,
           0.01822911921317496,
           0.20721902810732595,
           0.18712661152663912,
           0.01506405502742526,
           0.19199242221500684,
           -0.024089879252211007,
           -0.000010676654784900517,
           -0.1761415032197091,
           -0.0825795343381348,
           -0.02364920069108755,
           0.13368462513218732,
           0.06664013407752918,
           1
          ]
         ]
        }
       ],
       "layout": {
        "coloraxis": {
         "colorscale": [
          [
           0,
           "#0d0887"
          ],
          [
           0.1111111111111111,
           "#46039f"
          ],
          [
           0.2222222222222222,
           "#7201a8"
          ],
          [
           0.3333333333333333,
           "#9c179e"
          ],
          [
           0.4444444444444444,
           "#bd3786"
          ],
          [
           0.5555555555555556,
           "#d8576b"
          ],
          [
           0.6666666666666666,
           "#ed7953"
          ],
          [
           0.7777777777777778,
           "#fb9f3a"
          ],
          [
           0.8888888888888888,
           "#fdca26"
          ],
          [
           1,
           "#f0f921"
          ]
         ]
        },
        "margin": {
         "t": 60
        },
        "template": {
         "data": {
          "bar": [
           {
            "error_x": {
             "color": "#2a3f5f"
            },
            "error_y": {
             "color": "#2a3f5f"
            },
            "marker": {
             "line": {
              "color": "#E5ECF6",
              "width": 0.5
             },
             "pattern": {
              "fillmode": "overlay",
              "size": 10,
              "solidity": 0.2
             }
            },
            "type": "bar"
           }
          ],
          "barpolar": [
           {
            "marker": {
             "line": {
              "color": "#E5ECF6",
              "width": 0.5
             },
             "pattern": {
              "fillmode": "overlay",
              "size": 10,
              "solidity": 0.2
             }
            },
            "type": "barpolar"
           }
          ],
          "carpet": [
           {
            "aaxis": {
             "endlinecolor": "#2a3f5f",
             "gridcolor": "white",
             "linecolor": "white",
             "minorgridcolor": "white",
             "startlinecolor": "#2a3f5f"
            },
            "baxis": {
             "endlinecolor": "#2a3f5f",
             "gridcolor": "white",
             "linecolor": "white",
             "minorgridcolor": "white",
             "startlinecolor": "#2a3f5f"
            },
            "type": "carpet"
           }
          ],
          "choropleth": [
           {
            "colorbar": {
             "outlinewidth": 0,
             "ticks": ""
            },
            "type": "choropleth"
           }
          ],
          "contour": [
           {
            "colorbar": {
             "outlinewidth": 0,
             "ticks": ""
            },
            "colorscale": [
             [
              0,
              "#0d0887"
             ],
             [
              0.1111111111111111,
              "#46039f"
             ],
             [
              0.2222222222222222,
              "#7201a8"
             ],
             [
              0.3333333333333333,
              "#9c179e"
             ],
             [
              0.4444444444444444,
              "#bd3786"
             ],
             [
              0.5555555555555556,
              "#d8576b"
             ],
             [
              0.6666666666666666,
              "#ed7953"
             ],
             [
              0.7777777777777778,
              "#fb9f3a"
             ],
             [
              0.8888888888888888,
              "#fdca26"
             ],
             [
              1,
              "#f0f921"
             ]
            ],
            "type": "contour"
           }
          ],
          "contourcarpet": [
           {
            "colorbar": {
             "outlinewidth": 0,
             "ticks": ""
            },
            "type": "contourcarpet"
           }
          ],
          "heatmap": [
           {
            "colorbar": {
             "outlinewidth": 0,
             "ticks": ""
            },
            "colorscale": [
             [
              0,
              "#0d0887"
             ],
             [
              0.1111111111111111,
              "#46039f"
             ],
             [
              0.2222222222222222,
              "#7201a8"
             ],
             [
              0.3333333333333333,
              "#9c179e"
             ],
             [
              0.4444444444444444,
              "#bd3786"
             ],
             [
              0.5555555555555556,
              "#d8576b"
             ],
             [
              0.6666666666666666,
              "#ed7953"
             ],
             [
              0.7777777777777778,
              "#fb9f3a"
             ],
             [
              0.8888888888888888,
              "#fdca26"
             ],
             [
              1,
              "#f0f921"
             ]
            ],
            "type": "heatmap"
           }
          ],
          "heatmapgl": [
           {
            "colorbar": {
             "outlinewidth": 0,
             "ticks": ""
            },
            "colorscale": [
             [
              0,
              "#0d0887"
             ],
             [
              0.1111111111111111,
              "#46039f"
             ],
             [
              0.2222222222222222,
              "#7201a8"
             ],
             [
              0.3333333333333333,
              "#9c179e"
             ],
             [
              0.4444444444444444,
              "#bd3786"
             ],
             [
              0.5555555555555556,
              "#d8576b"
             ],
             [
              0.6666666666666666,
              "#ed7953"
             ],
             [
              0.7777777777777778,
              "#fb9f3a"
             ],
             [
              0.8888888888888888,
              "#fdca26"
             ],
             [
              1,
              "#f0f921"
             ]
            ],
            "type": "heatmapgl"
           }
          ],
          "histogram": [
           {
            "marker": {
             "pattern": {
              "fillmode": "overlay",
              "size": 10,
              "solidity": 0.2
             }
            },
            "type": "histogram"
           }
          ],
          "histogram2d": [
           {
            "colorbar": {
             "outlinewidth": 0,
             "ticks": ""
            },
            "colorscale": [
             [
              0,
              "#0d0887"
             ],
             [
              0.1111111111111111,
              "#46039f"
             ],
             [
              0.2222222222222222,
              "#7201a8"
             ],
             [
              0.3333333333333333,
              "#9c179e"
             ],
             [
              0.4444444444444444,
              "#bd3786"
             ],
             [
              0.5555555555555556,
              "#d8576b"
             ],
             [
              0.6666666666666666,
              "#ed7953"
             ],
             [
              0.7777777777777778,
              "#fb9f3a"
             ],
             [
              0.8888888888888888,
              "#fdca26"
             ],
             [
              1,
              "#f0f921"
             ]
            ],
            "type": "histogram2d"
           }
          ],
          "histogram2dcontour": [
           {
            "colorbar": {
             "outlinewidth": 0,
             "ticks": ""
            },
            "colorscale": [
             [
              0,
              "#0d0887"
             ],
             [
              0.1111111111111111,
              "#46039f"
             ],
             [
              0.2222222222222222,
              "#7201a8"
             ],
             [
              0.3333333333333333,
              "#9c179e"
             ],
             [
              0.4444444444444444,
              "#bd3786"
             ],
             [
              0.5555555555555556,
              "#d8576b"
             ],
             [
              0.6666666666666666,
              "#ed7953"
             ],
             [
              0.7777777777777778,
              "#fb9f3a"
             ],
             [
              0.8888888888888888,
              "#fdca26"
             ],
             [
              1,
              "#f0f921"
             ]
            ],
            "type": "histogram2dcontour"
           }
          ],
          "mesh3d": [
           {
            "colorbar": {
             "outlinewidth": 0,
             "ticks": ""
            },
            "type": "mesh3d"
           }
          ],
          "parcoords": [
           {
            "line": {
             "colorbar": {
              "outlinewidth": 0,
              "ticks": ""
             }
            },
            "type": "parcoords"
           }
          ],
          "pie": [
           {
            "automargin": true,
            "type": "pie"
           }
          ],
          "scatter": [
           {
            "fillpattern": {
             "fillmode": "overlay",
             "size": 10,
             "solidity": 0.2
            },
            "type": "scatter"
           }
          ],
          "scatter3d": [
           {
            "line": {
             "colorbar": {
              "outlinewidth": 0,
              "ticks": ""
             }
            },
            "marker": {
             "colorbar": {
              "outlinewidth": 0,
              "ticks": ""
             }
            },
            "type": "scatter3d"
           }
          ],
          "scattercarpet": [
           {
            "marker": {
             "colorbar": {
              "outlinewidth": 0,
              "ticks": ""
             }
            },
            "type": "scattercarpet"
           }
          ],
          "scattergeo": [
           {
            "marker": {
             "colorbar": {
              "outlinewidth": 0,
              "ticks": ""
             }
            },
            "type": "scattergeo"
           }
          ],
          "scattergl": [
           {
            "marker": {
             "colorbar": {
              "outlinewidth": 0,
              "ticks": ""
             }
            },
            "type": "scattergl"
           }
          ],
          "scattermapbox": [
           {
            "marker": {
             "colorbar": {
              "outlinewidth": 0,
              "ticks": ""
             }
            },
            "type": "scattermapbox"
           }
          ],
          "scatterpolar": [
           {
            "marker": {
             "colorbar": {
              "outlinewidth": 0,
              "ticks": ""
             }
            },
            "type": "scatterpolar"
           }
          ],
          "scatterpolargl": [
           {
            "marker": {
             "colorbar": {
              "outlinewidth": 0,
              "ticks": ""
             }
            },
            "type": "scatterpolargl"
           }
          ],
          "scatterternary": [
           {
            "marker": {
             "colorbar": {
              "outlinewidth": 0,
              "ticks": ""
             }
            },
            "type": "scatterternary"
           }
          ],
          "surface": [
           {
            "colorbar": {
             "outlinewidth": 0,
             "ticks": ""
            },
            "colorscale": [
             [
              0,
              "#0d0887"
             ],
             [
              0.1111111111111111,
              "#46039f"
             ],
             [
              0.2222222222222222,
              "#7201a8"
             ],
             [
              0.3333333333333333,
              "#9c179e"
             ],
             [
              0.4444444444444444,
              "#bd3786"
             ],
             [
              0.5555555555555556,
              "#d8576b"
             ],
             [
              0.6666666666666666,
              "#ed7953"
             ],
             [
              0.7777777777777778,
              "#fb9f3a"
             ],
             [
              0.8888888888888888,
              "#fdca26"
             ],
             [
              1,
              "#f0f921"
             ]
            ],
            "type": "surface"
           }
          ],
          "table": [
           {
            "cells": {
             "fill": {
              "color": "#EBF0F8"
             },
             "line": {
              "color": "white"
             }
            },
            "header": {
             "fill": {
              "color": "#C8D4E3"
             },
             "line": {
              "color": "white"
             }
            },
            "type": "table"
           }
          ]
         },
         "layout": {
          "annotationdefaults": {
           "arrowcolor": "#2a3f5f",
           "arrowhead": 0,
           "arrowwidth": 1
          },
          "autotypenumbers": "strict",
          "coloraxis": {
           "colorbar": {
            "outlinewidth": 0,
            "ticks": ""
           }
          },
          "colorscale": {
           "diverging": [
            [
             0,
             "#8e0152"
            ],
            [
             0.1,
             "#c51b7d"
            ],
            [
             0.2,
             "#de77ae"
            ],
            [
             0.3,
             "#f1b6da"
            ],
            [
             0.4,
             "#fde0ef"
            ],
            [
             0.5,
             "#f7f7f7"
            ],
            [
             0.6,
             "#e6f5d0"
            ],
            [
             0.7,
             "#b8e186"
            ],
            [
             0.8,
             "#7fbc41"
            ],
            [
             0.9,
             "#4d9221"
            ],
            [
             1,
             "#276419"
            ]
           ],
           "sequential": [
            [
             0,
             "#0d0887"
            ],
            [
             0.1111111111111111,
             "#46039f"
            ],
            [
             0.2222222222222222,
             "#7201a8"
            ],
            [
             0.3333333333333333,
             "#9c179e"
            ],
            [
             0.4444444444444444,
             "#bd3786"
            ],
            [
             0.5555555555555556,
             "#d8576b"
            ],
            [
             0.6666666666666666,
             "#ed7953"
            ],
            [
             0.7777777777777778,
             "#fb9f3a"
            ],
            [
             0.8888888888888888,
             "#fdca26"
            ],
            [
             1,
             "#f0f921"
            ]
           ],
           "sequentialminus": [
            [
             0,
             "#0d0887"
            ],
            [
             0.1111111111111111,
             "#46039f"
            ],
            [
             0.2222222222222222,
             "#7201a8"
            ],
            [
             0.3333333333333333,
             "#9c179e"
            ],
            [
             0.4444444444444444,
             "#bd3786"
            ],
            [
             0.5555555555555556,
             "#d8576b"
            ],
            [
             0.6666666666666666,
             "#ed7953"
            ],
            [
             0.7777777777777778,
             "#fb9f3a"
            ],
            [
             0.8888888888888888,
             "#fdca26"
            ],
            [
             1,
             "#f0f921"
            ]
           ]
          },
          "colorway": [
           "#636efa",
           "#EF553B",
           "#00cc96",
           "#ab63fa",
           "#FFA15A",
           "#19d3f3",
           "#FF6692",
           "#B6E880",
           "#FF97FF",
           "#FECB52"
          ],
          "font": {
           "color": "#2a3f5f"
          },
          "geo": {
           "bgcolor": "white",
           "lakecolor": "white",
           "landcolor": "#E5ECF6",
           "showlakes": true,
           "showland": true,
           "subunitcolor": "white"
          },
          "hoverlabel": {
           "align": "left"
          },
          "hovermode": "closest",
          "mapbox": {
           "style": "light"
          },
          "paper_bgcolor": "white",
          "plot_bgcolor": "#E5ECF6",
          "polar": {
           "angularaxis": {
            "gridcolor": "white",
            "linecolor": "white",
            "ticks": ""
           },
           "bgcolor": "#E5ECF6",
           "radialaxis": {
            "gridcolor": "white",
            "linecolor": "white",
            "ticks": ""
           }
          },
          "scene": {
           "xaxis": {
            "backgroundcolor": "#E5ECF6",
            "gridcolor": "white",
            "gridwidth": 2,
            "linecolor": "white",
            "showbackground": true,
            "ticks": "",
            "zerolinecolor": "white"
           },
           "yaxis": {
            "backgroundcolor": "#E5ECF6",
            "gridcolor": "white",
            "gridwidth": 2,
            "linecolor": "white",
            "showbackground": true,
            "ticks": "",
            "zerolinecolor": "white"
           },
           "zaxis": {
            "backgroundcolor": "#E5ECF6",
            "gridcolor": "white",
            "gridwidth": 2,
            "linecolor": "white",
            "showbackground": true,
            "ticks": "",
            "zerolinecolor": "white"
           }
          },
          "shapedefaults": {
           "line": {
            "color": "#2a3f5f"
           }
          },
          "ternary": {
           "aaxis": {
            "gridcolor": "white",
            "linecolor": "white",
            "ticks": ""
           },
           "baxis": {
            "gridcolor": "white",
            "linecolor": "white",
            "ticks": ""
           },
           "bgcolor": "#E5ECF6",
           "caxis": {
            "gridcolor": "white",
            "linecolor": "white",
            "ticks": ""
           }
          },
          "title": {
           "x": 0.05
          },
          "xaxis": {
           "automargin": true,
           "gridcolor": "white",
           "linecolor": "white",
           "ticks": "",
           "title": {
            "standoff": 15
           },
           "zerolinecolor": "white",
           "zerolinewidth": 2
          },
          "yaxis": {
           "automargin": true,
           "gridcolor": "white",
           "linecolor": "white",
           "ticks": "",
           "title": {
            "standoff": 15
           },
           "zerolinecolor": "white",
           "zerolinewidth": 2
          }
         }
        },
        "title": {
         "text": "Correlation Matrix"
        },
        "xaxis": {
         "anchor": "y",
         "constrain": "domain",
         "domain": [
          0,
          1
         ],
         "scaleanchor": "y"
        },
        "yaxis": {
         "anchor": "x",
         "autorange": "reversed",
         "constrain": "domain",
         "domain": [
          0,
          1
         ]
        }
       }
      }
     },
     "metadata": {},
     "output_type": "display_data"
    }
   ],
   "source": [
    "non_numeric_cols = df.select_dtypes(exclude=[np.number]).columns.tolist()\n",
    "print(non_numeric_cols)\n",
    "numeric_df = df.select_dtypes(include=[np.number])\n",
    "correlation_matrix = numeric_df.corr()\n",
    "mode_correlation = correlation_matrix['mode'].sort_values(ascending=False)\n",
    "print(mode_correlation)\n",
    "\n",
    "fig = px.imshow(correlation_matrix, text_auto=True)\n",
    "fig.update_layout(title='Correlation Matrix')\n",
    "fig.show()"
   ]
  },
  {
   "cell_type": "markdown",
   "metadata": {},
   "source": [
    "## KNN\n",
    "\n",
    "Applying KNN for the energy feature:"
   ]
  },
  {
   "cell_type": "code",
   "execution_count": 15,
   "metadata": {},
   "outputs": [],
   "source": [
    "from sklearn.neighbors import KNeighborsClassifier\n",
    "from sklearn.preprocessing import LabelEncoder"
   ]
  },
  {
   "cell_type": "markdown",
   "metadata": {},
   "source": [
    "To split the energy feature into a binary feature, we are specifying the threshold to be the 75th percentile. So the top 25% of tracks will be \"high\", and everything else is \"low\"."
   ]
  },
  {
   "cell_type": "code",
   "execution_count": 16,
   "metadata": {},
   "outputs": [],
   "source": [
    "df_copy = df.copy()\n",
    "threshold = df_copy['energy'].median()\n",
    "\n",
    "df_copy[\"energy_level\"] = df_copy['energy'].apply(lambda x: \"high\" if x>=threshold else \"low\")\n",
    "\n",
    "#encode as 0 or 1 (1 = high, 0 = low)\n",
    "le = LabelEncoder()\n",
    "df_copy['energy_level'] = le.fit_transform(df_copy['energy_level'])\n",
    "\n",
    "# dropping energy_level, and the non numerical features\n",
    "X = df_copy[['loudness', 'acousticness']] # chosen using our correlation matrix\n",
    "y = df_copy['energy_level']\n",
    "\n",
    "X_train, X_test, y_train, y_test = train_test_split(X, y, test_size=0.3, random_state=42)\n"
   ]
  },
  {
   "cell_type": "code",
   "execution_count": 17,
   "metadata": {},
   "outputs": [],
   "source": [
    "knn1 = KNeighborsClassifier(n_neighbors=1)\n",
    "knn15 = KNeighborsClassifier(n_neighbors=15)\n",
    "knn25 = KNeighborsClassifier(n_neighbors=25)"
   ]
  },
  {
   "cell_type": "code",
   "execution_count": 18,
   "metadata": {},
   "outputs": [
    {
     "data": {
      "text/html": [
       "<style>#sk-container-id-1 {\n",
       "  /* Definition of color scheme common for light and dark mode */\n",
       "  --sklearn-color-text: black;\n",
       "  --sklearn-color-line: gray;\n",
       "  /* Definition of color scheme for unfitted estimators */\n",
       "  --sklearn-color-unfitted-level-0: #fff5e6;\n",
       "  --sklearn-color-unfitted-level-1: #f6e4d2;\n",
       "  --sklearn-color-unfitted-level-2: #ffe0b3;\n",
       "  --sklearn-color-unfitted-level-3: chocolate;\n",
       "  /* Definition of color scheme for fitted estimators */\n",
       "  --sklearn-color-fitted-level-0: #f0f8ff;\n",
       "  --sklearn-color-fitted-level-1: #d4ebff;\n",
       "  --sklearn-color-fitted-level-2: #b3dbfd;\n",
       "  --sklearn-color-fitted-level-3: cornflowerblue;\n",
       "\n",
       "  /* Specific color for light theme */\n",
       "  --sklearn-color-text-on-default-background: var(--sg-text-color, var(--theme-code-foreground, var(--jp-content-font-color1, black)));\n",
       "  --sklearn-color-background: var(--sg-background-color, var(--theme-background, var(--jp-layout-color0, white)));\n",
       "  --sklearn-color-border-box: var(--sg-text-color, var(--theme-code-foreground, var(--jp-content-font-color1, black)));\n",
       "  --sklearn-color-icon: #696969;\n",
       "\n",
       "  @media (prefers-color-scheme: dark) {\n",
       "    /* Redefinition of color scheme for dark theme */\n",
       "    --sklearn-color-text-on-default-background: var(--sg-text-color, var(--theme-code-foreground, var(--jp-content-font-color1, white)));\n",
       "    --sklearn-color-background: var(--sg-background-color, var(--theme-background, var(--jp-layout-color0, #111)));\n",
       "    --sklearn-color-border-box: var(--sg-text-color, var(--theme-code-foreground, var(--jp-content-font-color1, white)));\n",
       "    --sklearn-color-icon: #878787;\n",
       "  }\n",
       "}\n",
       "\n",
       "#sk-container-id-1 {\n",
       "  color: var(--sklearn-color-text);\n",
       "}\n",
       "\n",
       "#sk-container-id-1 pre {\n",
       "  padding: 0;\n",
       "}\n",
       "\n",
       "#sk-container-id-1 input.sk-hidden--visually {\n",
       "  border: 0;\n",
       "  clip: rect(1px 1px 1px 1px);\n",
       "  clip: rect(1px, 1px, 1px, 1px);\n",
       "  height: 1px;\n",
       "  margin: -1px;\n",
       "  overflow: hidden;\n",
       "  padding: 0;\n",
       "  position: absolute;\n",
       "  width: 1px;\n",
       "}\n",
       "\n",
       "#sk-container-id-1 div.sk-dashed-wrapped {\n",
       "  border: 1px dashed var(--sklearn-color-line);\n",
       "  margin: 0 0.4em 0.5em 0.4em;\n",
       "  box-sizing: border-box;\n",
       "  padding-bottom: 0.4em;\n",
       "  background-color: var(--sklearn-color-background);\n",
       "}\n",
       "\n",
       "#sk-container-id-1 div.sk-container {\n",
       "  /* jupyter's `normalize.less` sets `[hidden] { display: none; }`\n",
       "     but bootstrap.min.css set `[hidden] { display: none !important; }`\n",
       "     so we also need the `!important` here to be able to override the\n",
       "     default hidden behavior on the sphinx rendered scikit-learn.org.\n",
       "     See: https://github.com/scikit-learn/scikit-learn/issues/21755 */\n",
       "  display: inline-block !important;\n",
       "  position: relative;\n",
       "}\n",
       "\n",
       "#sk-container-id-1 div.sk-text-repr-fallback {\n",
       "  display: none;\n",
       "}\n",
       "\n",
       "div.sk-parallel-item,\n",
       "div.sk-serial,\n",
       "div.sk-item {\n",
       "  /* draw centered vertical line to link estimators */\n",
       "  background-image: linear-gradient(var(--sklearn-color-text-on-default-background), var(--sklearn-color-text-on-default-background));\n",
       "  background-size: 2px 100%;\n",
       "  background-repeat: no-repeat;\n",
       "  background-position: center center;\n",
       "}\n",
       "\n",
       "/* Parallel-specific style estimator block */\n",
       "\n",
       "#sk-container-id-1 div.sk-parallel-item::after {\n",
       "  content: \"\";\n",
       "  width: 100%;\n",
       "  border-bottom: 2px solid var(--sklearn-color-text-on-default-background);\n",
       "  flex-grow: 1;\n",
       "}\n",
       "\n",
       "#sk-container-id-1 div.sk-parallel {\n",
       "  display: flex;\n",
       "  align-items: stretch;\n",
       "  justify-content: center;\n",
       "  background-color: var(--sklearn-color-background);\n",
       "  position: relative;\n",
       "}\n",
       "\n",
       "#sk-container-id-1 div.sk-parallel-item {\n",
       "  display: flex;\n",
       "  flex-direction: column;\n",
       "}\n",
       "\n",
       "#sk-container-id-1 div.sk-parallel-item:first-child::after {\n",
       "  align-self: flex-end;\n",
       "  width: 50%;\n",
       "}\n",
       "\n",
       "#sk-container-id-1 div.sk-parallel-item:last-child::after {\n",
       "  align-self: flex-start;\n",
       "  width: 50%;\n",
       "}\n",
       "\n",
       "#sk-container-id-1 div.sk-parallel-item:only-child::after {\n",
       "  width: 0;\n",
       "}\n",
       "\n",
       "/* Serial-specific style estimator block */\n",
       "\n",
       "#sk-container-id-1 div.sk-serial {\n",
       "  display: flex;\n",
       "  flex-direction: column;\n",
       "  align-items: center;\n",
       "  background-color: var(--sklearn-color-background);\n",
       "  padding-right: 1em;\n",
       "  padding-left: 1em;\n",
       "}\n",
       "\n",
       "\n",
       "/* Toggleable style: style used for estimator/Pipeline/ColumnTransformer box that is\n",
       "clickable and can be expanded/collapsed.\n",
       "- Pipeline and ColumnTransformer use this feature and define the default style\n",
       "- Estimators will overwrite some part of the style using the `sk-estimator` class\n",
       "*/\n",
       "\n",
       "/* Pipeline and ColumnTransformer style (default) */\n",
       "\n",
       "#sk-container-id-1 div.sk-toggleable {\n",
       "  /* Default theme specific background. It is overwritten whether we have a\n",
       "  specific estimator or a Pipeline/ColumnTransformer */\n",
       "  background-color: var(--sklearn-color-background);\n",
       "}\n",
       "\n",
       "/* Toggleable label */\n",
       "#sk-container-id-1 label.sk-toggleable__label {\n",
       "  cursor: pointer;\n",
       "  display: block;\n",
       "  width: 100%;\n",
       "  margin-bottom: 0;\n",
       "  padding: 0.5em;\n",
       "  box-sizing: border-box;\n",
       "  text-align: center;\n",
       "}\n",
       "\n",
       "#sk-container-id-1 label.sk-toggleable__label-arrow:before {\n",
       "  /* Arrow on the left of the label */\n",
       "  content: \"▸\";\n",
       "  float: left;\n",
       "  margin-right: 0.25em;\n",
       "  color: var(--sklearn-color-icon);\n",
       "}\n",
       "\n",
       "#sk-container-id-1 label.sk-toggleable__label-arrow:hover:before {\n",
       "  color: var(--sklearn-color-text);\n",
       "}\n",
       "\n",
       "/* Toggleable content - dropdown */\n",
       "\n",
       "#sk-container-id-1 div.sk-toggleable__content {\n",
       "  max-height: 0;\n",
       "  max-width: 0;\n",
       "  overflow: hidden;\n",
       "  text-align: left;\n",
       "  /* unfitted */\n",
       "  background-color: var(--sklearn-color-unfitted-level-0);\n",
       "}\n",
       "\n",
       "#sk-container-id-1 div.sk-toggleable__content.fitted {\n",
       "  /* fitted */\n",
       "  background-color: var(--sklearn-color-fitted-level-0);\n",
       "}\n",
       "\n",
       "#sk-container-id-1 div.sk-toggleable__content pre {\n",
       "  margin: 0.2em;\n",
       "  border-radius: 0.25em;\n",
       "  color: var(--sklearn-color-text);\n",
       "  /* unfitted */\n",
       "  background-color: var(--sklearn-color-unfitted-level-0);\n",
       "}\n",
       "\n",
       "#sk-container-id-1 div.sk-toggleable__content.fitted pre {\n",
       "  /* unfitted */\n",
       "  background-color: var(--sklearn-color-fitted-level-0);\n",
       "}\n",
       "\n",
       "#sk-container-id-1 input.sk-toggleable__control:checked~div.sk-toggleable__content {\n",
       "  /* Expand drop-down */\n",
       "  max-height: 200px;\n",
       "  max-width: 100%;\n",
       "  overflow: auto;\n",
       "}\n",
       "\n",
       "#sk-container-id-1 input.sk-toggleable__control:checked~label.sk-toggleable__label-arrow:before {\n",
       "  content: \"▾\";\n",
       "}\n",
       "\n",
       "/* Pipeline/ColumnTransformer-specific style */\n",
       "\n",
       "#sk-container-id-1 div.sk-label input.sk-toggleable__control:checked~label.sk-toggleable__label {\n",
       "  color: var(--sklearn-color-text);\n",
       "  background-color: var(--sklearn-color-unfitted-level-2);\n",
       "}\n",
       "\n",
       "#sk-container-id-1 div.sk-label.fitted input.sk-toggleable__control:checked~label.sk-toggleable__label {\n",
       "  background-color: var(--sklearn-color-fitted-level-2);\n",
       "}\n",
       "\n",
       "/* Estimator-specific style */\n",
       "\n",
       "/* Colorize estimator box */\n",
       "#sk-container-id-1 div.sk-estimator input.sk-toggleable__control:checked~label.sk-toggleable__label {\n",
       "  /* unfitted */\n",
       "  background-color: var(--sklearn-color-unfitted-level-2);\n",
       "}\n",
       "\n",
       "#sk-container-id-1 div.sk-estimator.fitted input.sk-toggleable__control:checked~label.sk-toggleable__label {\n",
       "  /* fitted */\n",
       "  background-color: var(--sklearn-color-fitted-level-2);\n",
       "}\n",
       "\n",
       "#sk-container-id-1 div.sk-label label.sk-toggleable__label,\n",
       "#sk-container-id-1 div.sk-label label {\n",
       "  /* The background is the default theme color */\n",
       "  color: var(--sklearn-color-text-on-default-background);\n",
       "}\n",
       "\n",
       "/* On hover, darken the color of the background */\n",
       "#sk-container-id-1 div.sk-label:hover label.sk-toggleable__label {\n",
       "  color: var(--sklearn-color-text);\n",
       "  background-color: var(--sklearn-color-unfitted-level-2);\n",
       "}\n",
       "\n",
       "/* Label box, darken color on hover, fitted */\n",
       "#sk-container-id-1 div.sk-label.fitted:hover label.sk-toggleable__label.fitted {\n",
       "  color: var(--sklearn-color-text);\n",
       "  background-color: var(--sklearn-color-fitted-level-2);\n",
       "}\n",
       "\n",
       "/* Estimator label */\n",
       "\n",
       "#sk-container-id-1 div.sk-label label {\n",
       "  font-family: monospace;\n",
       "  font-weight: bold;\n",
       "  display: inline-block;\n",
       "  line-height: 1.2em;\n",
       "}\n",
       "\n",
       "#sk-container-id-1 div.sk-label-container {\n",
       "  text-align: center;\n",
       "}\n",
       "\n",
       "/* Estimator-specific */\n",
       "#sk-container-id-1 div.sk-estimator {\n",
       "  font-family: monospace;\n",
       "  border: 1px dotted var(--sklearn-color-border-box);\n",
       "  border-radius: 0.25em;\n",
       "  box-sizing: border-box;\n",
       "  margin-bottom: 0.5em;\n",
       "  /* unfitted */\n",
       "  background-color: var(--sklearn-color-unfitted-level-0);\n",
       "}\n",
       "\n",
       "#sk-container-id-1 div.sk-estimator.fitted {\n",
       "  /* fitted */\n",
       "  background-color: var(--sklearn-color-fitted-level-0);\n",
       "}\n",
       "\n",
       "/* on hover */\n",
       "#sk-container-id-1 div.sk-estimator:hover {\n",
       "  /* unfitted */\n",
       "  background-color: var(--sklearn-color-unfitted-level-2);\n",
       "}\n",
       "\n",
       "#sk-container-id-1 div.sk-estimator.fitted:hover {\n",
       "  /* fitted */\n",
       "  background-color: var(--sklearn-color-fitted-level-2);\n",
       "}\n",
       "\n",
       "/* Specification for estimator info (e.g. \"i\" and \"?\") */\n",
       "\n",
       "/* Common style for \"i\" and \"?\" */\n",
       "\n",
       ".sk-estimator-doc-link,\n",
       "a:link.sk-estimator-doc-link,\n",
       "a:visited.sk-estimator-doc-link {\n",
       "  float: right;\n",
       "  font-size: smaller;\n",
       "  line-height: 1em;\n",
       "  font-family: monospace;\n",
       "  background-color: var(--sklearn-color-background);\n",
       "  border-radius: 1em;\n",
       "  height: 1em;\n",
       "  width: 1em;\n",
       "  text-decoration: none !important;\n",
       "  margin-left: 1ex;\n",
       "  /* unfitted */\n",
       "  border: var(--sklearn-color-unfitted-level-1) 1pt solid;\n",
       "  color: var(--sklearn-color-unfitted-level-1);\n",
       "}\n",
       "\n",
       ".sk-estimator-doc-link.fitted,\n",
       "a:link.sk-estimator-doc-link.fitted,\n",
       "a:visited.sk-estimator-doc-link.fitted {\n",
       "  /* fitted */\n",
       "  border: var(--sklearn-color-fitted-level-1) 1pt solid;\n",
       "  color: var(--sklearn-color-fitted-level-1);\n",
       "}\n",
       "\n",
       "/* On hover */\n",
       "div.sk-estimator:hover .sk-estimator-doc-link:hover,\n",
       ".sk-estimator-doc-link:hover,\n",
       "div.sk-label-container:hover .sk-estimator-doc-link:hover,\n",
       ".sk-estimator-doc-link:hover {\n",
       "  /* unfitted */\n",
       "  background-color: var(--sklearn-color-unfitted-level-3);\n",
       "  color: var(--sklearn-color-background);\n",
       "  text-decoration: none;\n",
       "}\n",
       "\n",
       "div.sk-estimator.fitted:hover .sk-estimator-doc-link.fitted:hover,\n",
       ".sk-estimator-doc-link.fitted:hover,\n",
       "div.sk-label-container:hover .sk-estimator-doc-link.fitted:hover,\n",
       ".sk-estimator-doc-link.fitted:hover {\n",
       "  /* fitted */\n",
       "  background-color: var(--sklearn-color-fitted-level-3);\n",
       "  color: var(--sklearn-color-background);\n",
       "  text-decoration: none;\n",
       "}\n",
       "\n",
       "/* Span, style for the box shown on hovering the info icon */\n",
       ".sk-estimator-doc-link span {\n",
       "  display: none;\n",
       "  z-index: 9999;\n",
       "  position: relative;\n",
       "  font-weight: normal;\n",
       "  right: .2ex;\n",
       "  padding: .5ex;\n",
       "  margin: .5ex;\n",
       "  width: min-content;\n",
       "  min-width: 20ex;\n",
       "  max-width: 50ex;\n",
       "  color: var(--sklearn-color-text);\n",
       "  box-shadow: 2pt 2pt 4pt #999;\n",
       "  /* unfitted */\n",
       "  background: var(--sklearn-color-unfitted-level-0);\n",
       "  border: .5pt solid var(--sklearn-color-unfitted-level-3);\n",
       "}\n",
       "\n",
       ".sk-estimator-doc-link.fitted span {\n",
       "  /* fitted */\n",
       "  background: var(--sklearn-color-fitted-level-0);\n",
       "  border: var(--sklearn-color-fitted-level-3);\n",
       "}\n",
       "\n",
       ".sk-estimator-doc-link:hover span {\n",
       "  display: block;\n",
       "}\n",
       "\n",
       "/* \"?\"-specific style due to the `<a>` HTML tag */\n",
       "\n",
       "#sk-container-id-1 a.estimator_doc_link {\n",
       "  float: right;\n",
       "  font-size: 1rem;\n",
       "  line-height: 1em;\n",
       "  font-family: monospace;\n",
       "  background-color: var(--sklearn-color-background);\n",
       "  border-radius: 1rem;\n",
       "  height: 1rem;\n",
       "  width: 1rem;\n",
       "  text-decoration: none;\n",
       "  /* unfitted */\n",
       "  color: var(--sklearn-color-unfitted-level-1);\n",
       "  border: var(--sklearn-color-unfitted-level-1) 1pt solid;\n",
       "}\n",
       "\n",
       "#sk-container-id-1 a.estimator_doc_link.fitted {\n",
       "  /* fitted */\n",
       "  border: var(--sklearn-color-fitted-level-1) 1pt solid;\n",
       "  color: var(--sklearn-color-fitted-level-1);\n",
       "}\n",
       "\n",
       "/* On hover */\n",
       "#sk-container-id-1 a.estimator_doc_link:hover {\n",
       "  /* unfitted */\n",
       "  background-color: var(--sklearn-color-unfitted-level-3);\n",
       "  color: var(--sklearn-color-background);\n",
       "  text-decoration: none;\n",
       "}\n",
       "\n",
       "#sk-container-id-1 a.estimator_doc_link.fitted:hover {\n",
       "  /* fitted */\n",
       "  background-color: var(--sklearn-color-fitted-level-3);\n",
       "}\n",
       "</style><div id=\"sk-container-id-1\" class=\"sk-top-container\"><div class=\"sk-text-repr-fallback\"><pre>KNeighborsClassifier(n_neighbors=25)</pre><b>In a Jupyter environment, please rerun this cell to show the HTML representation or trust the notebook. <br />On GitHub, the HTML representation is unable to render, please try loading this page with nbviewer.org.</b></div><div class=\"sk-container\" hidden><div class=\"sk-item\"><div class=\"sk-estimator fitted sk-toggleable\"><input class=\"sk-toggleable__control sk-hidden--visually\" id=\"sk-estimator-id-1\" type=\"checkbox\" checked><label for=\"sk-estimator-id-1\" class=\"sk-toggleable__label fitted sk-toggleable__label-arrow fitted\">&nbsp;&nbsp;KNeighborsClassifier<a class=\"sk-estimator-doc-link fitted\" rel=\"noreferrer\" target=\"_blank\" href=\"https://scikit-learn.org/1.5/modules/generated/sklearn.neighbors.KNeighborsClassifier.html\">?<span>Documentation for KNeighborsClassifier</span></a><span class=\"sk-estimator-doc-link fitted\">i<span>Fitted</span></span></label><div class=\"sk-toggleable__content fitted\"><pre>KNeighborsClassifier(n_neighbors=25)</pre></div> </div></div></div></div>"
      ],
      "text/plain": [
       "KNeighborsClassifier(n_neighbors=25)"
      ]
     },
     "execution_count": 18,
     "metadata": {},
     "output_type": "execute_result"
    }
   ],
   "source": [
    "knn1.fit(X_train, y_train)\n",
    "knn15.fit(X_train, y_train)\n",
    "knn25.fit(X_train, y_train)"
   ]
  },
  {
   "cell_type": "code",
   "execution_count": 19,
   "metadata": {},
   "outputs": [],
   "source": [
    "y_pred1 = knn1.predict(X_test)\n",
    "y_pred15 = knn15.predict(X_test)\n",
    "y_pred25 = knn25.predict(X_test)"
   ]
  },
  {
   "cell_type": "code",
   "execution_count": 20,
   "metadata": {},
   "outputs": [
    {
     "name": "stdout",
     "output_type": "stream",
     "text": [
      "Accuracy knn1: 0.8475730994152046\n",
      "Accuracy knn15: 0.8319005847953216\n",
      "Accuracy knn25: 0.8300292397660819\n"
     ]
    }
   ],
   "source": [
    "accuracy1 = accuracy_score(y_test, y_pred1)\n",
    "accuracy15 = accuracy_score(y_test, y_pred15)\n",
    "accuracy25 = accuracy_score(y_test, y_pred25)\n",
    "\n",
    "print(f\"Accuracy knn1: {accuracy1}\")\n",
    "print(f\"Accuracy knn15: {accuracy15}\")\n",
    "print(f\"Accuracy knn25: {accuracy25}\")"
   ]
  },
  {
   "cell_type": "code",
   "execution_count": 25,
   "metadata": {},
   "outputs": [
    {
     "name": "stdout",
     "output_type": "stream",
     "text": [
      "--- Metrics for knn1 ---\n",
      "Confusion Matrix:\n",
      " [[39941    17]\n",
      " [    9 39832]]\n",
      "Prediction Accuracy: 0.9996741813807191\n",
      "Prediction Error: 0.0003258186192809376\n",
      "True Positive Rate (Recall/Sensitivity): 0.999774102056\n",
      "True Negative Rate (Specificity): 0.999574553281\n",
      "F1 Score: 0.999673735726\n",
      "\n",
      "--- Metrics for knn15 ---\n",
      "Confusion Matrix:\n",
      " [[37251  2707]\n",
      " [11186 28655]]\n",
      "Prediction Accuracy: 0.8259000739357636\n",
      "Prediction Error: 0.1740999260642364\n",
      "True Positive Rate (Recall/Sensitivity): 0.719233954971\n",
      "True Negative Rate (Specificity): 0.93225386656\n",
      "F1 Score: 0.804881816777\n",
      "\n",
      "--- Metrics for knn25 ---\n",
      "Confusion Matrix:\n",
      " [[37053  2905]\n",
      " [11956 27885]]\n",
      "Prediction Accuracy: 0.8137695961102269\n",
      "Prediction Error: 0.18623040388977308\n",
      "True Positive Rate (Recall/Sensitivity): 0.699907130845\n",
      "True Negative Rate (Specificity): 0.927298663597\n",
      "F1 Score: 0.789596636038\n",
      "\n"
     ]
    }
   ],
   "source": [
    "from sklearn.metrics import confusion_matrix, accuracy_score, f1_score\n",
    "models = {\n",
    "    \"knn1\": knn1,\n",
    "    \"knn15\": knn15,\n",
    "    \"knn25\": knn25\n",
    "}\n",
    "\n",
    "# Helper function for threshold-based prediction\n",
    "def t_repredict(model, t, X):\n",
    "    probs = model.predict_proba(X)[:, 1]  # Get probabilities for the positive class\n",
    "    y_pred = (probs > t).astype(int)  # Apply threshold\n",
    "    return y_pred\n",
    "\n",
    "# Iterate over models and calculate metrics\n",
    "for name, model in models.items():\n",
    "    # Default threshold (0.5)\n",
    "    y_pred_train_default = t_repredict(model, 0.5, X_train)\n",
    "    \n",
    "    # Custom threshold (0.65)\n",
    "    y_pred_train_custom = t_repredict(model, threshold, X_train)\n",
    "    \n",
    "    # Confusion Matrix\n",
    "    conf_matrix_train = confusion_matrix(y_train, y_pred_train_custom)\n",
    "    TN, FP, FN, TP = conf_matrix_train.ravel()\n",
    "    \n",
    "    # Metrics\n",
    "    accuracy = accuracy_score(y_train, y_pred_train_custom)\n",
    "    error = 1 - accuracy # Prediction error\n",
    "    true_positive_rate = TP / (TP + FN) # Sensitivity / Recall\n",
    "    true_negative_rate = TN / (TN + FP) # Specificity\n",
    "    f1 = f1_score(y_train, y_pred_train_custom)\n",
    "    \n",
    "    # Display results\n",
    "    print(f\"--- Metrics for {name} ---\")\n",
    "    print(\"Confusion Matrix:\\n\", conf_matrix_train)\n",
    "    print(\"Prediction Accuracy:\", accuracy)\n",
    "    print(\"Prediction Error:\", error) \n",
    "    print(\"True Positive Rate (Recall/Sensitivity):\", true_positive_rate)\n",
    "    print(\"True Negative Rate (Specificity):\", true_negative_rate)\n",
    "    print(\"F1 Score:\", f1)\n",
    "    print()"
   ]
  },
  {
   "cell_type": "code",
   "execution_count": 31,
   "metadata": {},
   "outputs": [
    {
     "data": {
      "text/plain": [
       "<Axes: title={'center': 'ROC'}, xlabel='False Positive Rate', ylabel='True Positive Rate'>"
      ]
     },
     "execution_count": 31,
     "metadata": {},
     "output_type": "execute_result"
    },
    {
     "data": {
      "image/png": "[encoded data removed]",
      "text/plain": [
       "<Figure size 640x480 with 1 Axes>"
      ]
     },
     "metadata": {},
     "output_type": "display_data"
    }
   ],
   "source": [
    "from sklearn.metrics import roc_curve, auc\n",
    "%matplotlib inline\n",
    "\n",
    "# a function to make 'pretty' ROC curves for this model\n",
    "def make_roc(name, clf, ytest, xtest, ax=None, labe=5, proba=True, skip=0):\n",
    "    initial=False\n",
    "    if not ax:\n",
    "        ax=plt.gca()\n",
    "        initial=True\n",
    "    if proba:#for stuff like logistic regression\n",
    "        fpr, tpr, thresholds=roc_curve(ytest, clf.predict_proba(xtest)[:,1])\n",
    "    else:#for stuff like SVM\n",
    "        fpr, tpr, thresholds=roc_curve(ytest, clf.decision_function(xtest))\n",
    "    roc_auc = auc(fpr, tpr)\n",
    "    if skip:\n",
    "        l=fpr.shape[0]\n",
    "        ax.plot(fpr[0:l:skip], tpr[0:l:skip], '.-', alpha=0.3, label='ROC curve for %s (area = %0.2f)' % (name, roc_auc))\n",
    "    else:\n",
    "        ax.plot(fpr, tpr, '.-', alpha=0.3, label='ROC curve for %s (area = %0.2f)' % (name, roc_auc))\n",
    "    label_kwargs = {}\n",
    "    label_kwargs['bbox'] = dict(\n",
    "        boxstyle='round,pad=0.3', alpha=0.2,\n",
    "    )\n",
    "    if labe!=None:\n",
    "        for k in range(0, fpr.shape[0],labe):\n",
    "            threshold = str(np.round(thresholds[k], 2))\n",
    "            ax.annotate(threshold, (fpr[k], tpr[k]), **label_kwargs)\n",
    "    if initial:\n",
    "        ax.plot([0, 1], [0, 1], 'k--')\n",
    "        ax.set_xlim([0.0, 1.0])\n",
    "        ax.set_ylim([0.0, 1.05])\n",
    "        ax.set_xlabel('False Positive Rate')\n",
    "        ax.set_ylabel('True Positive Rate')\n",
    "        ax.set_title('ROC')\n",
    "    ax.legend(loc=\"lower right\")\n",
    "    return ax\n",
    "\n",
    "make_roc(\"knn1\", knn1, y_test, X_test, ax=None, labe=20, proba=True, skip=1)\n",
    "make_roc(\"knn15\", knn15, y_test, X_test, ax=None, labe=20, proba=True, skip=1)\n",
    "make_roc(\"knn25\", knn25, y_test, X_test, ax=None, labe=20, proba=True, skip=1)\n"
   ]
  },
  {
   "cell_type": "code",
   "execution_count": 33,
   "metadata": {},
   "outputs": [
    {
     "name": "stdout",
     "output_type": "stream",
     "text": [
      "Cross-Validation Scores for each fold for knn1: [ 0.82263158  0.81201754  0.8420614   0.85833333  0.79599982]\n",
      "Mean Cross-Validation Accuracy for knn1: 82.62%\n",
      "\n",
      "Cross-Validation Scores for each fold for knn15: [ 0.8247807   0.79622807  0.84078947  0.845       0.79288565]\n",
      "Mean Cross-Validation Accuracy for knn15: 81.99%\n",
      "\n",
      "Cross-Validation Scores for each fold for knn25: [ 0.82416667  0.79333333  0.84057018  0.84315789  0.79082416]\n",
      "Mean Cross-Validation Accuracyfor knn25: 81.84%\n",
      "\n"
     ]
    }
   ],
   "source": [
    "from sklearn.model_selection import cross_val_score\n",
    "\n",
    "# --------------------------\n",
    "# K-Fold Cross-Validation\n",
    "# --------------------------\n",
    "\n",
    "# We'll use the previously selected features for this exercise (or all features if you haven't done feature selection yet)\n",
    "X_cv =  X\n",
    "y_cv =  y\n",
    "\n",
    "# Perform 5-Fold Cross-Validation\n",
    "cv_scores_knn1 = cross_val_score(knn1, X_cv, y_cv, cv=5)\n",
    "cv_scores_knn15 = cross_val_score(knn15, X_cv, y_cv, cv=5)\n",
    "cv_scores_knn25 = cross_val_score(knn25, X_cv, y_cv, cv=5)\n",
    "\n",
    "# Output the cross-validation scores for each fold\n",
    "# Modify the printed scores to the acutal cv_scores\n",
    "print(f\"Cross-Validation Scores for each fold for knn1: {cv_scores_knn1}\")\n",
    "print(f\"Mean Cross-Validation Accuracy for knn1: {np.mean(cv_scores_knn1) * 100:.2f}%\")\n",
    "print()\n",
    "\n",
    "print(f\"Cross-Validation Scores for each fold for knn15: {cv_scores_knn15}\")\n",
    "print(f\"Mean Cross-Validation Accuracy for knn15: {np.mean(cv_scores_knn15) * 100:.2f}%\")\n",
    "print()\n",
    "\n",
    "print(f\"Cross-Validation Scores for each fold for knn25: {cv_scores_knn25}\")\n",
    "print(f\"Mean Cross-Validation Accuracyfor knn25: {np.mean(cv_scores_knn25) * 100:.2f}%\")\n",
    "print()"
   ]
  },
  {
   "cell_type": "markdown",
   "metadata": {},
   "source": [
    "## Clustering Code"
   ]
  },
  {
   "cell_type": "markdown",
   "metadata": {},
   "source": [
    "We are interested in examining similarities and patterns in musical features amongst different artists and track genres.\n",
    "\n",
    "We will begin by selecting our desired features, normalizing and scaling them. This is important because we want to ensure that out model will not be heavily impacted by outliers and allows no feature to outweigh the other in our clustering algorithm."
   ]
  },
  {
   "cell_type": "code",
   "execution_count": null,
   "metadata": {},
   "outputs": [],
   "source": [
    "import numpy as np\n",
    "import pandas as pd\n",
    "import matplotlib.pyplot as plt\n",
    "get_ipython().run_line_magic('matplotlib', 'inline')\n",
    "from sklearn.cluster import KMeans\n",
    "from sklearn.preprocessing import StandardScaler"
   ]
  },
  {
   "cell_type": "code",
   "execution_count": 35,
   "metadata": {},
   "outputs": [
    {
     "data": {
      "text/html": [
       "<div>\n",
       "<style scoped>\n",
       "    .dataframe tbody tr th:only-of-type {\n",
       "        vertical-align: middle;\n",
       "    }\n",
       "\n",
       "    .dataframe tbody tr th {\n",
       "        vertical-align: top;\n",
       "    }\n",
       "\n",
       "    .dataframe thead th {\n",
       "        text-align: right;\n",
       "    }\n",
       "</style>\n",
       "<table border=\"1\" class=\"dataframe\">\n",
       "  <thead>\n",
       "    <tr style=\"text-align: right;\">\n",
       "      <th></th>\n",
       "      <th>artists</th>\n",
       "      <th>album_name</th>\n",
       "      <th>track_name</th>\n",
       "      <th>popularity</th>\n",
       "      <th>duration_ms</th>\n",
       "      <th>explicit</th>\n",
       "      <th>danceability</th>\n",
       "      <th>energy</th>\n",
       "      <th>key</th>\n",
       "      <th>loudness</th>\n",
       "      <th>mode</th>\n",
       "      <th>speechiness</th>\n",
       "      <th>acousticness</th>\n",
       "      <th>instrumentalness</th>\n",
       "      <th>liveness</th>\n",
       "      <th>valence</th>\n",
       "      <th>tempo</th>\n",
       "      <th>time_signature</th>\n",
       "      <th>track_genre</th>\n",
       "    </tr>\n",
       "  </thead>\n",
       "  <tbody>\n",
       "    <tr>\n",
       "      <th>0</th>\n",
       "      <td>Gen Hoshino</td>\n",
       "      <td>Comedy</td>\n",
       "      <td>Comedy</td>\n",
       "      <td>73</td>\n",
       "      <td>230666</td>\n",
       "      <td>False</td>\n",
       "      <td>0.676</td>\n",
       "      <td>0.461</td>\n",
       "      <td>1</td>\n",
       "      <td>-6.746</td>\n",
       "      <td>0</td>\n",
       "      <td>0.1430</td>\n",
       "      <td>0.0322</td>\n",
       "      <td>0.000001</td>\n",
       "      <td>0.358</td>\n",
       "      <td>0.715</td>\n",
       "      <td>87.917</td>\n",
       "      <td>4</td>\n",
       "      <td>acoustic</td>\n",
       "    </tr>\n",
       "    <tr>\n",
       "      <th>1</th>\n",
       "      <td>Ben Woodward</td>\n",
       "      <td>Ghost (Acoustic)</td>\n",
       "      <td>Ghost - Acoustic</td>\n",
       "      <td>55</td>\n",
       "      <td>149610</td>\n",
       "      <td>False</td>\n",
       "      <td>0.420</td>\n",
       "      <td>0.166</td>\n",
       "      <td>1</td>\n",
       "      <td>-17.235</td>\n",
       "      <td>1</td>\n",
       "      <td>0.0763</td>\n",
       "      <td>0.9240</td>\n",
       "      <td>0.000006</td>\n",
       "      <td>0.101</td>\n",
       "      <td>0.267</td>\n",
       "      <td>77.489</td>\n",
       "      <td>4</td>\n",
       "      <td>acoustic</td>\n",
       "    </tr>\n",
       "    <tr>\n",
       "      <th>2</th>\n",
       "      <td>Ingrid Michaelson;ZAYN</td>\n",
       "      <td>To Begin Again</td>\n",
       "      <td>To Begin Again</td>\n",
       "      <td>57</td>\n",
       "      <td>210826</td>\n",
       "      <td>False</td>\n",
       "      <td>0.438</td>\n",
       "      <td>0.359</td>\n",
       "      <td>0</td>\n",
       "      <td>-9.734</td>\n",
       "      <td>1</td>\n",
       "      <td>0.0557</td>\n",
       "      <td>0.2100</td>\n",
       "      <td>0.000000</td>\n",
       "      <td>0.117</td>\n",
       "      <td>0.120</td>\n",
       "      <td>76.332</td>\n",
       "      <td>4</td>\n",
       "      <td>acoustic</td>\n",
       "    </tr>\n",
       "  </tbody>\n",
       "</table>\n",
       "</div>"
      ],
      "text/plain": [
       "                  artists        album_name        track_name  popularity  \\\n",
       "0             Gen Hoshino            Comedy            Comedy          73   \n",
       "1            Ben Woodward  Ghost (Acoustic)  Ghost - Acoustic          55   \n",
       "2  Ingrid Michaelson;ZAYN    To Begin Again    To Begin Again          57   \n",
       "\n",
       "   duration_ms  explicit  danceability  energy  key  loudness  mode  \\\n",
       "0       230666     False         0.676   0.461    1    -6.746     0   \n",
       "1       149610     False         0.420   0.166    1   -17.235     1   \n",
       "2       210826     False         0.438   0.359    0    -9.734     1   \n",
       "\n",
       "   speechiness  acousticness  instrumentalness  liveness  valence   tempo  \\\n",
       "0       0.1430        0.0322          0.000001     0.358    0.715  87.917   \n",
       "1       0.0763        0.9240          0.000006     0.101    0.267  77.489   \n",
       "2       0.0557        0.2100          0.000000     0.117    0.120  76.332   \n",
       "\n",
       "   time_signature track_genre  \n",
       "0               4    acoustic  \n",
       "1               4    acoustic  \n",
       "2               4    acoustic  "
      ]
     },
     "execution_count": 35,
     "metadata": {},
     "output_type": "execute_result"
    }
   ],
   "source": [
    "# remove first two irrelevant columns\n",
    "clusterdf = df.iloc[:, 2:]\n",
    "clusterdf.head(3)"
   ]
  },
  {
   "cell_type": "code",
   "execution_count": null,
   "metadata": {},
   "outputs": [],
   "source": [
    "# Remove columns\n",
    "# clusterdf = clusterdf[['acousticness', 'instrumentalness']]\n",
    "clusterdf = clusterdf[['energy', 'acousticness']] # SWITCHED IT TO THIS FROM THE ABOVE\n",
    "# Normalize data\n",
    "clusterdf.iloc[:, 2:] = clusterdf.iloc[:, 2:].apply(lambda x: (x -min(x))/(max(x)-min(x)))\n",
    "\n",
    "# Scale data\n",
    "ss = StandardScaler()\n",
    "clusterdf_ss = ss.fit_transform(clusterdf)"
   ]
  },
  {
   "cell_type": "markdown",
   "metadata": {},
   "source": [
    "### K-Means"
   ]
  },
  {
   "cell_type": "code",
   "execution_count": 37,
   "metadata": {},
   "outputs": [
    {
     "data": {
      "image/png": "[encoded data removed]",
      "text/plain": [
       "<Figure size 640x480 with 1 Axes>"
      ]
     },
     "metadata": {},
     "output_type": "display_data"
    }
   ],
   "source": [
    "# Determine best k-value\n",
    "wss = []\n",
    "for k in range(1, 30):\n",
    "    kmeans = KMeans(n_clusters=k)\n",
    "    kmeans.fit(clusterdf_ss)\n",
    "    wss.append(kmeans.inertia_)\n",
    "\n",
    "# Plot the elbow curve\n",
    "plt.plot(range(1, 30), wss, marker='o')\n",
    "plt.xlabel(\"Number of clusters (k)\")\n",
    "plt.ylabel(\"WSS\")\n",
    "plt.title(\"Elbow Method\")\n",
    "plt.show()"
   ]
  },
  {
   "cell_type": "markdown",
   "metadata": {},
   "source": [
    "In order to determine the best k value, we will evaluate the WSS at various k's and select the k with the lowest WSS and smallest k (Elbow Method). However, based on the plot, we can see that the WSS seems to decrease over all values of k (0,30) so we will just use k=6 as it is where the eblow point is on the eblow plot. "
   ]
  },
  {
   "cell_type": "code",
   "execution_count": 38,
   "metadata": {},
   "outputs": [],
   "source": [
    "# Apply k-means with k=6\n",
    "kmeans = KMeans(n_clusters=6)\n",
    "y_kmeans = kmeans.fit_predict(clusterdf_ss)\n",
    "centroids = kmeans.cluster_centers_"
   ]
  },
  {
   "cell_type": "code",
   "execution_count": 39,
   "metadata": {},
   "outputs": [
    {
     "data": {
      "image/png": "[encoded data removed]",
      "text/plain": [
       "<Figure size 1000x1000 with 1 Axes>"
      ]
     },
     "metadata": {},
     "output_type": "display_data"
    }
   ],
   "source": [
    "# Visualizing the k-means clusters using popularity and danceabiity\n",
    "plt.figure(figsize=(10,10))\n",
    "scatter = plt.scatter(clusterdf_ss[:,1], clusterdf_ss[:,0], c = y_kmeans, cmap='rainbow', s = 15)\n",
    "plt.scatter(centroids[:, 1], centroids[:, 0], c='black', s=50)\n",
    "plt.xlabel('Acousticness')\n",
    "plt.ylabel('Instrumentalness')\n",
    "plt.show()"
   ]
  },
  {
   "cell_type": "markdown",
   "metadata": {},
   "source": [
    "### Quantitative Metrics"
   ]
  },
  {
   "cell_type": "code",
   "execution_count": 40,
   "metadata": {},
   "outputs": [],
   "source": [
    "from sklearn.metrics import silhouette_score, silhouette_samples, rand_score, adjusted_rand_score"
   ]
  },
  {
   "cell_type": "code",
   "execution_count": 41,
   "metadata": {},
   "outputs": [
    {
     "name": "stdout",
     "output_type": "stream",
     "text": [
      "K-Means Inertia: 22970.1 \n",
      "\n"
     ]
    }
   ],
   "source": [
    "print('K-Means Inertia:', round(kmeans.inertia_, 1), '\\n')"
   ]
  },
  {
   "cell_type": "code",
   "execution_count": 42,
   "metadata": {},
   "outputs": [
    {
     "data": {
      "text/plain": [
       "0.4282701461249635"
      ]
     },
     "execution_count": 42,
     "metadata": {},
     "output_type": "execute_result"
    }
   ],
   "source": [
    "#silhouette score for k-means\n",
    "silhouette_score(clusterdf_ss, y_kmeans)"
   ]
  },
  {
   "cell_type": "markdown",
   "metadata": {},
   "source": [
    "# Clustering Conclusion: (REWRITE)\n",
    "Clustering allows us to learn about similarities in various spotify scores between different artists and track genres. For instance, from the K-means plot above showing the acousticness and instrumentalness of the different clusters. We decided on these two variables by looking at the correlation matrix and picking 2 variables that had a very high correlation. For the 6 distinct clusters, we see that they are separated into geometric shapes. The clusters are relatively even in size, with outliers being the very small blue cluster and the decently large light green cluster.\n",
    "\n",
    "\n",
    "It would be interesting to find other features in which these two cluster differ in order to distinguish the differences between groups even more."
   ]
  },
  {
   "cell_type": "markdown",
   "metadata": {},
   "source": [
    "### NN"
   ]
  },
  {
   "cell_type": "code",
   "execution_count": 44,
   "metadata": {},
   "outputs": [],
   "source": [
    "import pandas as pd\n",
    "import torch\n",
    "import torch.nn as nn\n",
    "import torch.optim as optim\n",
    "import numpy as np\n",
    "import matplotlib.pyplot as plt\n",
    "from sklearn.model_selection import train_test_split\n",
    "from sklearn.preprocessing import StandardScaler\n",
    "import matplotlib.pyplot as plt\n",
    "\n",
    "df = pd.read_csv(\"hf://datasets/maharshipandya/spotify-tracks-dataset/dataset.csv\")\n",
    "df = df.dropna()"
   ]
  },
  {
   "cell_type": "code",
   "execution_count": 46,
   "metadata": {},
   "outputs": [],
   "source": [
    "# Training Data\n",
    "\n",
    "X = df[[\"acousticness\", 'loudness']].values\n",
    "y = df['energy'].values\n",
    "\n",
    "scaler = StandardScaler()\n",
    "X_scaled = scaler.fit_transform(X)\n",
    "\n",
    "X_train, X_test, y_train, y_test = train_test_split(X_scaled, y, test_size=0.3, random_state=42)\n",
    "\n",
    "X_train_tensor = torch.tensor(X_train, dtype=torch.float32)\n",
    "X_test_tensor = torch.tensor(X_test, dtype=torch.float32)\n",
    "y_train_tensor = torch.tensor(y_train, dtype=torch.float32)\n",
    "y_test_tensor = torch.tensor(y_test, dtype=torch.float32)\n",
    "\n",
    "y_train_tensor = y_train_tensor.unsqueeze(1)\n",
    "y_test_tensor = y_test_tensor.unsqueeze(1)"
   ]
  },
  {
   "cell_type": "code",
   "execution_count": 47,
   "metadata": {},
   "outputs": [],
   "source": [
    "# Neural Network\n",
    "\n",
    "class SimpleNN(nn.Module):\n",
    "    def __init__(self):\n",
    "        super(SimpleNN, self).__init__()\n",
    "        self.fc1 = nn.Linear(2, 3) \n",
    "        self.fc2 = nn.Linear(3, 1)  \n",
    "\n",
    "    def forward(self, x):\n",
    "        x = torch.relu(self.fc1(x))  \n",
    "        x = self.fc2(x) \n",
    "        return x"
   ]
  },
  {
   "cell_type": "code",
   "execution_count": 48,
   "metadata": {},
   "outputs": [],
   "source": [
    "# Initialize the model, loss function, optimizer and scheduler\n",
    "\n",
    "model = SimpleNN()\n",
    "loss_fn = nn.MSELoss()\n",
    "optimizer = optim.SGD(model.parameters(), lr=0.1)\n",
    "scheduler = optim.lr_scheduler.StepLR(optimizer, step_size = 10, gamma = 0.5)"
   ]
  },
  {
   "cell_type": "code",
   "execution_count": 49,
   "metadata": {},
   "outputs": [
    {
     "name": "stdout",
     "output_type": "stream",
     "text": [
      "Epoch [1/100], Loss: 0.2784, Learning Rate: 0.10000000\n",
      "Epoch [5/100], Loss: 0.1335, Learning Rate: 0.10000000\n",
      "Epoch [10/100], Loss: 0.0704, Learning Rate: 0.05000000\n",
      "Epoch [15/100], Loss: 0.0526, Learning Rate: 0.05000000\n",
      "Epoch [20/100], Loss: 0.0432, Learning Rate: 0.02500000\n",
      "Epoch [25/100], Loss: 0.0392, Learning Rate: 0.02500000\n",
      "Epoch [30/100], Loss: 0.0366, Learning Rate: 0.01250000\n",
      "Epoch [35/100], Loss: 0.0352, Learning Rate: 0.01250000\n",
      "Epoch [40/100], Loss: 0.0342, Learning Rate: 0.00625000\n",
      "Epoch [45/100], Loss: 0.0337, Learning Rate: 0.00625000\n",
      "Epoch [50/100], Loss: 0.0332, Learning Rate: 0.00312500\n",
      "Epoch [55/100], Loss: 0.0330, Learning Rate: 0.00312500\n",
      "Epoch [60/100], Loss: 0.0328, Learning Rate: 0.00156250\n",
      "Epoch [65/100], Loss: 0.0327, Learning Rate: 0.00156250\n",
      "Epoch [70/100], Loss: 0.0326, Learning Rate: 0.00078125\n",
      "Epoch [75/100], Loss: 0.0325, Learning Rate: 0.00078125\n",
      "Epoch [80/100], Loss: 0.0325, Learning Rate: 0.00039063\n",
      "Epoch [85/100], Loss: 0.0324, Learning Rate: 0.00039063\n",
      "Epoch [90/100], Loss: 0.0324, Learning Rate: 0.00019531\n",
      "Epoch [95/100], Loss: 0.0324, Learning Rate: 0.00019531\n",
      "Epoch [100/100], Loss: 0.0324, Learning Rate: 0.00009766\n"
     ]
    }
   ],
   "source": [
    "# Training Model with Learning Rate Scheduler\n",
    "\n",
    "epochs = 100\n",
    "losses = []\n",
    "learning_rates = []\n",
    "\n",
    "for epoch in range(epochs):\n",
    "    # Forward pass\n",
    "    predictions = model(X_train_tensor)\n",
    "    loss = loss_fn(predictions, y_train_tensor)\n",
    "\n",
    "    losses.append(loss.item()) \n",
    "    learning_rates.append(optimizer.param_groups[0]['lr'])\n",
    "\n",
    "    # Backward pass\n",
    "    optimizer.zero_grad()\n",
    "    loss.backward()\n",
    "    optimizer.step()\n",
    "    scheduler.step()\n",
    "\n",
    "    # Print loss every 10 epochs\n",
    "    if (epoch + 1) % 5 == 0 or epoch == 0:\n",
    "      print(f'Epoch [{epoch+1}/{epochs}], Loss: {loss.item():.4f}, Learning Rate: {optimizer.param_groups[0][\"lr\"]:.8f}')\n",
    "  "
   ]
  },
  {
   "cell_type": "code",
   "execution_count": 50,
   "metadata": {},
   "outputs": [
    {
     "data": {
      "image/png": "[encoded data removed]",
      "text/plain": [
       "<Figure size 1000x600 with 2 Axes>"
      ]
     },
     "metadata": {},
     "output_type": "display_data"
    }
   ],
   "source": [
    "# Plot of Learning Rates and Loss\n",
    "\n",
    "fig, ax1 = plt.subplots(figsize=(10, 6))\n",
    "\n",
    "ax1.set_xlabel('Epochs')\n",
    "ax1.set_ylabel('Loss', color='tab:red')\n",
    "ax1.plot(range(epochs), losses, color='tab:red', label='Loss')\n",
    "ax1.tick_params(axis='y', labelcolor='tab:red')\n",
    "\n",
    "ax2 = ax1.twinx()\n",
    "ax2.set_ylabel('Learning Rate', color='tab:blue')\n",
    "ax2.plot(range(epochs), learning_rates, color='tab:blue', label='Learning Rate')\n",
    "ax2.tick_params(axis='y', labelcolor='tab:blue')\n",
    "\n",
    "plt.title('Loss and Learning Rate over Training Epochs')\n",
    "fig.tight_layout()\n",
    "plt.show()"
   ]
  },
  {
   "cell_type": "markdown",
   "metadata": {},
   "source": [
    "2. We are using the Mean Squared Error loss function to evaluate the performance of our NN as it is measuring how far off the model's predictions are from the actual target values. A lower MSE indicates that the predictions are closer to the true values.\n",
    "\n",
    "3. To train our NN, the training datasets were preprocessed and converted to tensors. We used stochastic gradient descent as our optimization algorithm with an initial learning rate of 0.1. The learning rate determines the size of weight updates and we used a learning rate scheduler with forward and backward pass to find the optimal learning rate. We trained for 100 epochs."
   ]
  },
  {
   "cell_type": "code",
   "execution_count": 51,
   "metadata": {},
   "outputs": [
    {
     "name": "stdout",
     "output_type": "stream",
     "text": [
      "Test Loss: 0.0325\n",
      "Test RMSE: 0.1801\n"
     ]
    }
   ],
   "source": [
    "# After training\n",
    "model.eval() \n",
    "\n",
    "with torch.no_grad(): \n",
    "    test_predictions = model(X_test_tensor)  # forward pass\n",
    "    test_loss = loss_fn(test_predictions, y_test_tensor)  #test loss\n",
    "\n",
    "predicted = test_predictions.numpy()\n",
    "actual = y_test_tensor.numpy()\n",
    "\n",
    "print(f'Test Loss: {test_loss.item():.4f}')\n",
    "\n",
    "rmse = np.sqrt(np.mean((predicted - actual) ** 2))\n",
    "print(f'Test RMSE: {rmse:.4f}')\n"
   ]
  }
 ],
 "metadata": {
  "kernelspec": {
   "display_name": "math156",
   "language": "python",
   "name": "python3"
  },
  "language_info": {
   "codemirror_mode": {
    "name": "ipython",
    "version": 3
   },
   "file_extension": ".py",
   "mimetype": "text/x-python",
   "name": "python",
   "nbconvert_exporter": "python",
   "pygments_lexer": "ipython3",
   "version": "3.12.5"
  }
 },
 "nbformat": 4,
 "nbformat_minor": 2
}
